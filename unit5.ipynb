{
  "cells": [
    {
      "cell_type": "markdown",
      "metadata": {
        "id": "2D3NL_e4crQv"
      },
      "source": [
        "# Unit 5: An Introduction to ML-Agents\n",
        "\n"
      ]
    },
    {
      "cell_type": "markdown",
      "metadata": {
        "id": "97ZiytXEgqIz"
      },
      "source": [
        "<img src=\"https://huggingface.co/datasets/huggingface-deep-rl-course/course-images/resolve/main/en/unit7/thumbnail.png\" alt=\"Thumbnail\"/>\n",
        "\n",
        "In this notebook, you'll learn about ML-Agents and train two agents.\n",
        "\n",
        "- The first one will learn to **shoot snowballs onto spawning targets**.\n",
        "- The second need to press a button to spawn a pyramid, then navigate to the pyramid, knock it over, **and move to the gold brick at the top**. To do that, it will need to explore its environment, and we will use a technique called curiosity.\n",
        "\n",
        "After that, you'll be able **to watch your agents playing directly on your browser**.\n",
        "\n",
        "For more information about the certification process, check this section 👉 https://huggingface.co/deep-rl-course/en/unit0/introduction#certification-process"
      ]
    },
    {
      "cell_type": "markdown",
      "metadata": {
        "id": "FMYrDriDujzX"
      },
      "source": [
        "⬇️ Here is an example of what **you will achieve at the end of this unit.** ⬇️\n"
      ]
    },
    {
      "cell_type": "markdown",
      "metadata": {
        "id": "cBmFlh8suma-"
      },
      "source": [
        "<img src=\"https://huggingface.co/datasets/huggingface-deep-rl-course/course-images/resolve/main/en/unit7/pyramids.gif\" alt=\"Pyramids\"/>\n",
        "\n",
        "<img src=\"https://huggingface.co/datasets/huggingface-deep-rl-course/course-images/resolve/main/en/unit7/snowballtarget.gif\" alt=\"SnowballTarget\"/>"
      ]
    },
    {
      "cell_type": "markdown",
      "metadata": {
        "id": "A-cYE0K5iL-w"
      },
      "source": [
        "### 🎮 Environments: \n",
        "\n",
        "- [Pyramids](https://github.com/Unity-Technologies/ml-agents/blob/main/docs/Learning-Environment-Examples.md#pyramids)\n",
        "- SnowballTarget\n",
        "\n",
        "### 📚 RL-Library: \n",
        "\n",
        "- [ML-Agents (HuggingFace Experimental Version)](https://github.com/huggingface/ml-agents)\n",
        "\n",
        "⚠ We're going to use an experimental version of ML-Agents were you can push to hub and load from hub Unity ML-Agents Models **you need to install the same version**"
      ]
    },
    {
      "cell_type": "markdown",
      "metadata": {
        "id": "qEhtaFh9i31S"
      },
      "source": [
        "We're constantly trying to improve our tutorials, so **if you find some issues in this notebook**, please [open an issue on the GitHub Repo](https://github.com/huggingface/deep-rl-class/issues)."
      ]
    },
    {
      "cell_type": "markdown",
      "metadata": {
        "id": "j7f63r3Yi5vE"
      },
      "source": [
        "## Objectives of this notebook 🏆\n",
        "\n",
        "At the end of the notebook, you will:\n",
        "\n",
        "- Understand how works **ML-Agents**, the environment library.\n",
        "- Be able to **train agents in Unity Environments**.\n"
      ]
    },
    {
      "cell_type": "markdown",
      "metadata": {
        "id": "viNzVbVaYvY3"
      },
      "source": [
        "## This notebook is from the Deep Reinforcement Learning Course\n",
        "<img src=\"https://huggingface.co/datasets/huggingface-deep-rl-course/course-images/resolve/main/en/notebooks/deep-rl-course-illustration.jpg\" alt=\"Deep RL Course illustration\"/>"
      ]
    },
    {
      "cell_type": "markdown",
      "metadata": {
        "id": "6p5HnEefISCB"
      },
      "source": [
        "In this free course, you will:\n",
        "\n",
        "- 📖 Study Deep Reinforcement Learning in **theory and practice**.\n",
        "- 🧑‍💻 Learn to **use famous Deep RL libraries** such as Stable Baselines3, RL Baselines3 Zoo, CleanRL and Sample Factory 2.0.\n",
        "- 🤖 Train **agents in unique environments** \n",
        "\n",
        "And more check 📚 the syllabus 👉 https://huggingface.co/deep-rl-course/communication/publishing-schedule\n",
        "\n",
        "Don’t forget to **<a href=\"http://eepurl.com/ic5ZUD\">sign up to the course</a>** (we are collecting your email to be able to **send you the links when each Unit is published and give you information about the challenges and updates).**\n",
        "\n",
        "\n",
        "The best way to keep in touch is to join our discord server to exchange with the community and with us 👉🏻 https://discord.gg/ydHrjt3WP5"
      ]
    },
    {
      "cell_type": "markdown",
      "metadata": {
        "id": "Y-mo_6rXIjRi"
      },
      "source": [
        "## Prerequisites 🏗️\n",
        "Before diving into the notebook, you need to:\n",
        "\n",
        "🔲 📚 **Study [what is ML-Agents and how it works by reading Unit 5](https://huggingface.co/deep-rl-course/unit5/introduction)**  🤗  "
      ]
    },
    {
      "cell_type": "markdown",
      "metadata": {
        "id": "xYO1uD5Ujgdh"
      },
      "source": [
        "# Let's train our agents 🚀\n",
        "\n",
        "The ML-Agents integration on the Hub is **still experimental**, some features will be added in the future. \n",
        "\n",
        "But for now, **to validate this hands-on for the certification process, you just need to push your trained models to the Hub**. There’s no results to attain to validate this one. But if you want to get nice results you can try to attain:\n",
        "\n",
        "- For `Pyramids` : Mean Reward = 1.75\n",
        "- For `SnowballTarget` : Mean Reward = 15 or 30 targets hit in an episode.\n"
      ]
    },
    {
      "cell_type": "markdown",
      "metadata": {
        "id": "DssdIjk_8vZE"
      },
      "source": [
        "## Set the GPU 💪\n",
        "- To **accelerate the agent's training, we'll use a GPU**. To do that, go to `Runtime > Change Runtime type`\n",
        "\n",
        "<img src=\"https://huggingface.co/datasets/huggingface-deep-rl-course/course-images/resolve/main/en/notebooks/gpu-step1.jpg\" alt=\"GPU Step 1\">"
      ]
    },
    {
      "cell_type": "markdown",
      "metadata": {
        "id": "sTfCXHy68xBv"
      },
      "source": [
        "- `Hardware Accelerator > GPU`\n",
        "\n",
        "<img src=\"https://huggingface.co/datasets/huggingface-deep-rl-course/course-images/resolve/main/en/notebooks/gpu-step2.jpg\" alt=\"GPU Step 2\">"
      ]
    },
    {
      "cell_type": "markdown",
      "metadata": {
        "id": "an3ByrXYQ4iK"
      },
      "source": [
        "## Clone the repository and install the dependencies 🔽\n",
        "- We need to clone the repository, that **contains the experimental version of the library that allows you to push your trained agent to the Hub.**"
      ]
    },
    {
      "cell_type": "code",
      "execution_count": null,
      "metadata": {
        "id": "6WNoL04M7rTa"
      },
      "outputs": [],
      "source": [
        "# %%capture\n",
        "# Clone the repository\n",
        "!git clone --depth 1 --branch hf-integration https://github.com/huggingface/ml-agents"
      ]
    },
    {
      "cell_type": "code",
      "execution_count": null,
      "metadata": {
        "id": "d8wmVcMk7xKo"
      },
      "outputs": [],
      "source": [
        "# %%capture\n",
        "# Go inside the repository and install the package\n",
        "%cd ml-agents\n",
        "!pip3 install -e ./ml-agents-envs\n",
        "!pip3 install -e ./ml-agents"
      ]
    },
    {
      "cell_type": "code",
      "execution_count": null,
      "metadata": {
        "id": "ozcA_tl_XTrv"
      },
      "outputs": [],
      "source": [
        "# %%capture\n",
        "# Due to some conflicts between mlagents and tensorflow we need to uninstall it\n",
        "!pip3 uninstall tensorflow -y"
      ]
    },
    {
      "cell_type": "markdown",
      "metadata": {
        "id": "R5_7Ptd_kEcG"
      },
      "source": [
        "## SnowballTarget ⛄\n",
        "\n",
        "If you need a refresher on how this environments work check this section 👉\n",
        "https://huggingface.co/deep-rl-course/unit5/snowball-target"
      ]
    },
    {
      "cell_type": "markdown",
      "metadata": {
        "id": "HRY5ufKUKfhI"
      },
      "source": [
        "### Download and move the environment zip file in `./training-envs-executables/linux/`\n",
        "- Our environment executable is in a zip file.\n",
        "- We need to download it and place it to `./training-envs-executables/linux/`\n",
        "- We use a linux executable because we use colab, and colab machines OS is Ubuntu (linux)"
      ]
    },
    {
      "cell_type": "code",
      "execution_count": null,
      "metadata": {
        "id": "C9Ls6_6eOKiA"
      },
      "outputs": [],
      "source": [
        "# Here, we create training-envs-executables and linux\n",
        "!mkdir ./training-envs-executables\n",
        "!mkdir ./training-envs-executables/linux"
      ]
    },
    {
      "cell_type": "markdown",
      "metadata": {
        "id": "jsoZGxr1MIXY"
      },
      "source": [
        "Download the file SnowballTarget.zip from https://drive.google.com/file/d/1YHHLjyj6gaZ3Gemx1hQgqrPgSS2ZhmB5 using `wget`. \n",
        "\n",
        "Check out the full solution to download large files from GDrive [here](https://bcrf.biochem.wisc.edu/2021/02/05/download-google-drive-files-using-wget/)"
      ]
    },
    {
      "cell_type": "code",
      "execution_count": null,
      "metadata": {
        "id": "QU6gi8CmWhnA"
      },
      "outputs": [],
      "source": [
        "!wget --load-cookies /tmp/cookies.txt \"https://docs.google.com/uc?export=download&confirm=$(wget --quiet --save-cookies /tmp/cookies.txt --keep-session-cookies --no-check-certificate 'https://docs.google.com/uc?export=download&id=1YHHLjyj6gaZ3Gemx1hQgqrPgSS2ZhmB5' -O- | sed -rn 's/.*confirm=([0-9A-Za-z_]+).*/\\1\\n/p')&id=1YHHLjyj6gaZ3Gemx1hQgqrPgSS2ZhmB5\" -O ./training-envs-executables/linux/SnowballTarget.zip && rm -rf /tmp/cookies.txt"
      ]
    },
    {
      "cell_type": "markdown",
      "metadata": {
        "id": "_LLVaEEK3ayi"
      },
      "source": [
        "We unzip the executable.zip file"
      ]
    },
    {
      "cell_type": "code",
      "execution_count": null,
      "metadata": {
        "id": "8FPx0an9IAwO"
      },
      "outputs": [],
      "source": [
        "%%capture\n",
        "!unzip -d ./training-envs-executables/linux/ ./training-envs-executables/linux/SnowballTarget.zip"
      ]
    },
    {
      "cell_type": "markdown",
      "metadata": {
        "id": "nyumV5XfPKzu"
      },
      "source": [
        "Make sure your file is accessible "
      ]
    },
    {
      "cell_type": "code",
      "execution_count": 1,
      "metadata": {
        "id": "EdFsLJ11JvQf"
      },
      "outputs": [],
      "source": [
        "!chmod -R 755 ./training-envs-executables/linux/SnowballTarget"
      ]
    },
    {
      "cell_type": "markdown",
      "metadata": {
        "id": "NAuEq32Mwvtz"
      },
      "source": [
        "### Define the SnowballTarget config file\n",
        "- In ML-Agents, you define the **training hyperparameters into config.yaml files.**\n",
        "\n",
        "There are multiple hyperparameters. To know them better, you should check for each explanation with [the documentation](https://github.com/Unity-Technologies/ml-agents/blob/release_20_docs/docs/Training-Configuration-File.md)\n",
        "\n",
        "\n",
        "So you need to create a `SnowballTarget.yaml` config file in ./content/ml-agents/config/ppo/\n",
        "\n",
        "We'll give you here a first version of this config (to copy and paste into your `SnowballTarget.yaml file`), **but you should modify it**.\n",
        "\n",
        "```\n",
        "behaviors:\n",
        "  SnowballTarget:\n",
        "    trainer_type: ppo\n",
        "    summary_freq: 10000\n",
        "    keep_checkpoints: 10\n",
        "    checkpoint_interval: 50000\n",
        "    max_steps: 200000\n",
        "    time_horizon: 64\n",
        "    threaded: true\n",
        "    hyperparameters:\n",
        "      learning_rate: 0.0003\n",
        "      learning_rate_schedule: linear\n",
        "      batch_size: 128\n",
        "      buffer_size: 2048\n",
        "      beta: 0.005\n",
        "      epsilon: 0.2\n",
        "      lambd: 0.95\n",
        "      num_epoch: 3\n",
        "    network_settings:\n",
        "      normalize: false\n",
        "      hidden_units: 256\n",
        "      num_layers: 2\n",
        "      vis_encode_type: simple\n",
        "    reward_signals:\n",
        "      extrinsic:\n",
        "        gamma: 0.99\n",
        "        strength: 1.0\n",
        "```"
      ]
    },
    {
      "cell_type": "markdown",
      "metadata": {
        "id": "4U3sRH4N4h_l"
      },
      "source": [
        "<img src=\"https://huggingface.co/datasets/huggingface-deep-rl-course/course-images/resolve/main/en/unit7/snowballfight_config1.png\" alt=\"Config SnowballTarget\"/>\n",
        "<img src=\"https://huggingface.co/datasets/huggingface-deep-rl-course/course-images/resolve/main/en/unit7/snowballfight_config2.png\" alt=\"Config SnowballTarget\"/>"
      ]
    },
    {
      "cell_type": "markdown",
      "metadata": {
        "id": "JJJdo_5AyoGo"
      },
      "source": [
        "As an experimentation, you should also try to modify some other hyperparameters. Unity provides very [good documentation explaining each of them here](https://github.com/Unity-Technologies/ml-agents/blob/main/docs/Training-Configuration-File.md).\n",
        "\n",
        "Now that you've created the config file and understand what most hyperparameters do, we're ready to train our agent 🔥."
      ]
    },
    {
      "cell_type": "markdown",
      "metadata": {
        "id": "f9fI555bO12v"
      },
      "source": [
        "### Train the agent\n",
        "\n",
        "To train our agent, we just need to **launch mlagents-learn and select the executable containing the environment.**\n",
        "\n",
        "We define four parameters:\n",
        "\n",
        "1. `mlagents-learn <config>`: the path where the hyperparameter config file is.\n",
        "2. `--env`: where the environment executable is.\n",
        "3. `--run_id`: the name you want to give to your training run id.\n",
        "4. `--no-graphics`: to not launch the visualization during the training.\n",
        "\n",
        "<img src=\"https://huggingface.co/datasets/huggingface-deep-rl-course/course-images/resolve/main/en/unit7/mlagentslearn.png\" alt=\"MlAgents learn\"/>\n",
        "\n",
        "Train the model and use the `--resume` flag to continue training in case of interruption. \n",
        "\n",
        "> It will fail first time if and when you use `--resume`, try running the block again to bypass the error. \n",
        "\n"
      ]
    },
    {
      "cell_type": "markdown",
      "metadata": {
        "id": "lN32oWF8zPjs"
      },
      "source": [
        "The training will take 10 to 35min depending on your config, go take a ☕️you deserve it 🤗."
      ]
    },
    {
      "cell_type": "code",
      "execution_count": 6,
      "metadata": {
        "id": "bS-Yh1UdHfzy"
      },
      "outputs": [
        {
          "name": "stdout",
          "output_type": "stream",
          "text": [
            "\n",
            "            ┐  ╖\n",
            "        ╓╖╬│╡  ││╬╖╖\n",
            "    ╓╖╬│││││┘  ╬│││││╬╖\n",
            " ╖╬│││││╬╜        ╙╬│││││╖╖                               ╗╗╗\n",
            " ╬╬╬╬╖││╦╖        ╖╬││╗╣╣╣╬      ╟╣╣╬    ╟╣╣╣             ╜╜╜  ╟╣╣\n",
            " ╬╬╬╬╬╬╬╬╖│╬╖╖╓╬╪│╓╣╣╣╣╣╣╣╬      ╟╣╣╬    ╟╣╣╣ ╒╣╣╖╗╣╣╣╗   ╣╣╣ ╣╣╣╣╣╣ ╟╣╣╖   ╣╣╣\n",
            " ╬╬╬╬┐  ╙╬╬╬╬│╓╣╣╣╝╜  ╫╣╣╣╬      ╟╣╣╬    ╟╣╣╣ ╟╣╣╣╙ ╙╣╣╣  ╣╣╣ ╙╟╣╣╜╙  ╫╣╣  ╟╣╣\n",
            " ╬╬╬╬┐     ╙╬╬╣╣      ╫╣╣╣╬      ╟╣╣╬    ╟╣╣╣ ╟╣╣╬   ╣╣╣  ╣╣╣  ╟╣╣     ╣╣╣┌╣╣╜\n",
            " ╬╬╬╜       ╬╬╣╣      ╙╝╣╣╬      ╙╣╣╣╗╖╓╗╣╣╣╜ ╟╣╣╬   ╣╣╣  ╣╣╣  ╟╣╣╦╓    ╣╣╣╣╣\n",
            " ╙   ╓╦╖    ╬╬╣╣   ╓╗╗╖            ╙╝╣╣╣╣╝╜   ╘╝╝╜   ╝╝╝  ╝╝╝   ╙╣╣╣    ╟╣╣╣\n",
            "   ╩╬╬╬╬╬╬╦╦╬╬╣╣╗╣╣╣╣╣╣╣╝                                             ╫╣╣╣╣\n",
            "      ╙╬╬╬╬╬╬╬╣╣╣╣╣╣╝╜\n",
            "          ╙╬╬╬╣╣╣╜\n",
            "             ╙\n",
            "        \n",
            " Version information:\n",
            "  ml-agents: 0.31.0.dev0,\n",
            "  ml-agents-envs: 0.31.0.dev0,\n",
            "  Communicator API: 1.5.0,\n",
            "  PyTorch: 1.11.0+cu102\n",
            "[INFO] Connected to Unity environment with package version 2.1.0-exp.1 and communication version 1.5.0\n",
            "[INFO] Connected new brain: SnowballTarget?team=0\n",
            "[INFO] Hyperparameters for behavior name SnowballTarget: \n",
            "\ttrainer_type:\tppo\n",
            "\thyperparameters:\t\n",
            "\t  batch_size:\t128\n",
            "\t  buffer_size:\t2048\n",
            "\t  learning_rate:\t0.0003\n",
            "\t  beta:\t0.005\n",
            "\t  epsilon:\t0.2\n",
            "\t  lambd:\t0.95\n",
            "\t  num_epoch:\t3\n",
            "\t  shared_critic:\tFalse\n",
            "\t  learning_rate_schedule:\tlinear\n",
            "\t  beta_schedule:\tlinear\n",
            "\t  epsilon_schedule:\tlinear\n",
            "\tcheckpoint_interval:\t50000\n",
            "\tnetwork_settings:\t\n",
            "\t  normalize:\tFalse\n",
            "\t  hidden_units:\t256\n",
            "\t  num_layers:\t2\n",
            "\t  vis_encode_type:\tsimple\n",
            "\t  memory:\tNone\n",
            "\t  goal_conditioning_type:\thyper\n",
            "\t  deterministic:\tFalse\n",
            "\treward_signals:\t\n",
            "\t  extrinsic:\t\n",
            "\t    gamma:\t0.99\n",
            "\t    strength:\t1.0\n",
            "\t    network_settings:\t\n",
            "\t      normalize:\tFalse\n",
            "\t      hidden_units:\t128\n",
            "\t      num_layers:\t2\n",
            "\t      vis_encode_type:\tsimple\n",
            "\t      memory:\tNone\n",
            "\t      goal_conditioning_type:\thyper\n",
            "\t      deterministic:\tFalse\n",
            "\tinit_path:\tNone\n",
            "\tkeep_checkpoints:\t10\n",
            "\teven_checkpoints:\tFalse\n",
            "\tmax_steps:\t200000\n",
            "\ttime_horizon:\t64\n",
            "\tsummary_freq:\t10000\n",
            "\tthreaded:\tTrue\n",
            "\tself_play:\tNone\n",
            "\tbehavioral_cloning:\tNone\n",
            "[INFO] SnowballTarget. Step: 10000. Time Elapsed: 20.186 s. Mean Reward: 2.864. Std of Reward: 1.531. Training.\n",
            "[INFO] SnowballTarget. Step: 20000. Time Elapsed: 35.493 s. Mean Reward: 6.236. Std of Reward: 2.479. Training.\n",
            "[INFO] SnowballTarget. Step: 30000. Time Elapsed: 49.577 s. Mean Reward: 7.705. Std of Reward: 2.128. Training.\n",
            "[INFO] SnowballTarget. Step: 40000. Time Elapsed: 65.272 s. Mean Reward: 11.218. Std of Reward: 2.570. Training.\n",
            "[INFO] SnowballTarget. Step: 50000. Time Elapsed: 80.141 s. Mean Reward: 12.841. Std of Reward: 2.969. Training.\n",
            "[INFO] Exported results/SnowballTarget1/SnowballTarget/SnowballTarget-49936.onnx\n",
            "[INFO] SnowballTarget. Step: 60000. Time Elapsed: 95.630 s. Mean Reward: 13.291. Std of Reward: 3.318. Training.\n",
            "[INFO] SnowballTarget. Step: 70000. Time Elapsed: 111.194 s. Mean Reward: 16.432. Std of Reward: 2.490. Training.\n",
            "[INFO] SnowballTarget. Step: 80000. Time Elapsed: 128.301 s. Mean Reward: 17.509. Std of Reward: 2.847. Training.\n",
            "[INFO] SnowballTarget. Step: 90000. Time Elapsed: 143.836 s. Mean Reward: 19.318. Std of Reward: 2.353. Training.\n",
            "[INFO] SnowballTarget. Step: 100000. Time Elapsed: 160.710 s. Mean Reward: 20.382. Std of Reward: 2.431. Training.\n",
            "[INFO] Exported results/SnowballTarget1/SnowballTarget/SnowballTarget-99960.onnx\n",
            "[INFO] SnowballTarget. Step: 110000. Time Elapsed: 177.756 s. Mean Reward: 21.259. Std of Reward: 2.770. Training.\n",
            "[INFO] SnowballTarget. Step: 120000. Time Elapsed: 192.339 s. Mean Reward: 22.067. Std of Reward: 2.351. Training.\n",
            "[INFO] SnowballTarget. Step: 130000. Time Elapsed: 208.821 s. Mean Reward: 23.873. Std of Reward: 2.382. Training.\n",
            "[INFO] SnowballTarget. Step: 140000. Time Elapsed: 223.444 s. Mean Reward: 24.023. Std of Reward: 2.407. Training.\n",
            "[INFO] SnowballTarget. Step: 150000. Time Elapsed: 239.657 s. Mean Reward: 24.964. Std of Reward: 2.327. Training.\n",
            "[INFO] Exported results/SnowballTarget1/SnowballTarget/SnowballTarget-149984.onnx\n",
            "[INFO] SnowballTarget. Step: 160000. Time Elapsed: 255.371 s. Mean Reward: 24.864. Std of Reward: 2.040. Training.\n",
            "[INFO] SnowballTarget. Step: 170000. Time Elapsed: 270.917 s. Mean Reward: 25.200. Std of Reward: 2.331. Training.\n",
            "[INFO] SnowballTarget. Step: 180000. Time Elapsed: 286.624 s. Mean Reward: 25.636. Std of Reward: 1.978. Training.\n",
            "[INFO] SnowballTarget. Step: 190000. Time Elapsed: 302.992 s. Mean Reward: 25.182. Std of Reward: 2.465. Training.\n",
            "[INFO] SnowballTarget. Step: 200000. Time Elapsed: 317.966 s. Mean Reward: 25.273. Std of Reward: 2.049. Training.\n",
            "[INFO] Exported results/SnowballTarget1/SnowballTarget/SnowballTarget-199984.onnx\n",
            "[INFO] Exported results/SnowballTarget1/SnowballTarget/SnowballTarget-200112.onnx\n",
            "[INFO] Copied results/SnowballTarget1/SnowballTarget/SnowballTarget-200112.onnx to results/SnowballTarget1/SnowballTarget.onnx.\n"
          ]
        }
      ],
      "source": [
        "!mlagents-learn ./ml-agents/config/ppo/SnowballTarget.yaml --env=./training-envs-executables/linux/SnowballTarget/SnowballTarget --run-id=\"SnowballTarget1\" --no-graphics"
      ]
    },
    {
      "cell_type": "markdown",
      "metadata": {
        "id": "5Vue94AzPy1t"
      },
      "source": [
        "### Push the agent to the 🤗 Hub\n",
        "\n",
        "- Now that we trained our agent, we’re **ready to push it to the Hub to be able to visualize it playing on your browser🔥.**"
      ]
    },
    {
      "cell_type": "markdown",
      "metadata": {
        "id": "izT6FpgNzZ6R"
      },
      "source": [
        "To be able to share your model with the community there are three more steps to follow:\n",
        "\n",
        "1️⃣ (If it's not already done) create an account to HF ➡ https://huggingface.co/join\n",
        "\n",
        "2️⃣ Sign in and then, you need to store your authentication token from the Hugging Face website.\n",
        "- Create a new token (https://huggingface.co/settings/tokens) **with write role**\n",
        "\n",
        "<img src=\"https://huggingface.co/datasets/huggingface-deep-rl-course/course-images/resolve/main/en/notebooks/create-token.jpg\" alt=\"Create HF Token\">\n",
        "\n",
        "- Copy the token \n",
        "- Run the cell below and paste the token"
      ]
    },
    {
      "cell_type": "code",
      "execution_count": 8,
      "metadata": {
        "id": "rKt2vsYoK56o"
      },
      "outputs": [
        {
          "data": {
            "application/vnd.jupyter.widget-view+json": {
              "model_id": "fee29d3694fe4852aa9ddd5647127532",
              "version_major": 2,
              "version_minor": 0
            },
            "text/plain": [
              "VBox(children=(HTML(value='<center> <img\\nsrc=https://huggingface.co/front/assets/huggingface_logo-noborder.sv…"
            ]
          },
          "metadata": {},
          "output_type": "display_data"
        }
      ],
      "source": [
        "from huggingface_hub import notebook_login\n",
        "notebook_login()"
      ]
    },
    {
      "cell_type": "markdown",
      "metadata": {
        "id": "aSU9qD9_6dem"
      },
      "source": [
        "If you don't want to use a Google Colab or a Jupyter Notebook, you need to use this command instead: `huggingface-cli login`"
      ]
    },
    {
      "cell_type": "markdown",
      "metadata": {
        "id": "KK4fPfnczunT"
      },
      "source": [
        "Then, we simply need to run `mlagents-push-to-hf`.\n",
        "\n",
        "And we define 4 parameters:\n",
        "\n",
        "1. `--run-id`: the name of the training run id.\n",
        "2. `--local-dir`: where the agent was saved, it’s results/<run_id name>, so in my case results/First Training.\n",
        "3. `--repo-id`: the name of the Hugging Face repo you want to create or update. It’s always <your huggingface username>/<the repo name>\n",
        "If the repo does not exist **it will be created automatically**\n",
        "4. `--commit-message`: since HF repos are git repository you need to define a commit message.\n",
        "\n",
        "<img src=\"https://huggingface.co/datasets/huggingface-deep-rl-course/course-images/resolve/main/en/unit7/mlagentspushtohub.png\" alt=\"Push to Hub\"/>\n",
        "\n",
        "For instance:\n",
        "\n",
        "`!mlagents-push-to-hf  --run-id=\"SnowballTarget1\" --local-dir=\"./results/SnowballTarget1\" --repo-id=\"ThomasSimonini/ppo-SnowballTarget\"  --commit-message=\"First Push\"`"
      ]
    },
    {
      "cell_type": "code",
      "execution_count": null,
      "metadata": {
        "id": "kAFzVB7OYj_H"
      },
      "outputs": [],
      "source": [
        "# !mlagents-push-to-hf --run-id=\"SnowballTarget1\" --local-dir=\"./results/SnowballTarget2\" --repo-id=\"ThomasSimonini/ppo-SnowballTargetTESTCOLAB\" --commit-message=\"First Push\""
      ]
    },
    {
      "cell_type": "code",
      "execution_count": 10,
      "metadata": {
        "id": "dGEFAIboLVc6"
      },
      "outputs": [
        {
          "name": "stdout",
          "output_type": "stream",
          "text": [
            "Cloning https://huggingface.co/hussamalafandi/ppo-SnowballTarget into local empty directory.\n",
            "WARNING:huggingface_hub.repository:Cloning https://huggingface.co/hussamalafandi/ppo-SnowballTarget into local empty directory.\n",
            "Upload file SnowballTarget/SnowballTarget-49936.pt:   1%| | 32.0k/3.67M [00:00<?\n",
            "Upload file SnowballTarget/SnowballTarget-200112.pt:   1%| | 32.0k/3.67M [00:00<\u001b[A\n",
            "\n",
            "Upload file SnowballTarget/SnowballTarget-99960.pt:   1%| | 32.0k/3.67M [00:00<?\u001b[A\u001b[A\n",
            "\n",
            "\n",
            "Upload file SnowballTarget/SnowballTarget-199984.pt:   1%| | 32.0k/3.67M [00:00<\u001b[A\u001b[A\u001b[A\n",
            "\n",
            "\n",
            "\n",
            "Upload file SnowballTarget.onnx:   5%|▋             | 32.0k/631k [00:00<?, ?B/s]\u001b[A\u001b[A\u001b[A\u001b[A\n",
            "\n",
            "\n",
            "\n",
            "\n",
            "Upload file SnowballTarget/SnowballTarget-49936.onnx:   5%| | 32.0k/631k [00:00<\u001b[A\u001b[A\u001b[A\u001b[A\u001b[A\n",
            "\n",
            "\n",
            "\n",
            "\n",
            "\n",
            "Upload file SnowballTarget/SnowballTarget-149984.onnx:   5%| | 32.0k/631k [00:00\u001b[A\u001b[A\u001b[A\u001b[A\u001b[A\u001b[A\n",
            "\n",
            "\n",
            "\n",
            "\n",
            "\n",
            "\n",
            "Upload file SnowballTarget/SnowballTarget-49936.pt:  18%|▏| 672k/3.67M [00:01<00\u001b[A\u001b[A\u001b[A\u001b[A\u001b[A\u001b[A\u001b[A\n",
            "Upload file SnowballTarget/SnowballTarget-200112.pt:   5%| | 192k/3.67M [00:01<0\u001b[A\n",
            "\n",
            "Upload file SnowballTarget/SnowballTarget-99960.pt:   6%| | 224k/3.67M [00:01<00\u001b[A\u001b[A\n",
            "\n",
            "\n",
            "Upload file SnowballTarget/SnowballTarget-199984.pt:   6%| | 224k/3.67M [00:01<0\u001b[A\u001b[A\u001b[A\n",
            "\n",
            "\n",
            "\n",
            "\n",
            "Upload file SnowballTarget/SnowballTarget-49936.onnx:  35%|▎| 224k/631k [00:01<0\u001b[A\u001b[A\u001b[A\u001b[A\u001b[A\n",
            "\n",
            "\n",
            "\n",
            "\n",
            "\n",
            "\n",
            "Upload file SnowballTarget/SnowballTarget-149984.pt:   6%| | 224k/3.67M [00:01<0\u001b[A\u001b[A\u001b[A\u001b[A\u001b[A\u001b[A\u001b[A\n",
            "\n",
            "\n",
            "\n",
            "Upload file SnowballTarget.onnx:  35%|██▊     | 224k/631k [00:01<00:02, 195kB/s]\u001b[A\u001b[A\u001b[A\u001b[A\n",
            "\n",
            "\n",
            "\n",
            "\n",
            "\n",
            "Upload file SnowballTarget/SnowballTarget-149984.onnx:  30%|▎| 192k/631k [00:01<\u001b[A\u001b[A\u001b[A\u001b[A\u001b[A\u001b[A\n",
            "\n",
            "\n",
            "\n",
            "\n",
            "\n",
            "\n",
            "\n",
            "Upload file SnowballTarget/SnowballTarget-99960.onnx:   5%| | 32.0k/631k [00:00<\u001b[A\u001b[A\u001b[A\u001b[A\u001b[A\u001b[A\u001b[A\u001b[A\n",
            "\n",
            "\n",
            "\n",
            "\n",
            "\n",
            "\n",
            "\n",
            "\n",
            "Upload file SnowballTarget/events.out.tfevents.1681062873.HSM-PC.55379.0: 100%|█\u001b[A\u001b[A\u001b[A\u001b[A\u001b[A\u001b[A\u001b[A\u001b[A\u001b[A\n",
            "\n",
            "\n",
            "\n",
            "\n",
            "\n",
            "\n",
            "Upload file SnowballTarget/SnowballTarget-149984.pt:  74%|▋| 2.72M/3.67M [00:02<\u001b[A\u001b[A\u001b[A\u001b[A\u001b[A\u001b[A\u001b[A\n",
            "\n",
            "\n",
            "Upload file SnowballTarget/SnowballTarget-199984.pt:  90%|▉| 3.31M/3.67M [00:02<\u001b[A\u001b[A\u001b[Agit: 'credential-store~' is not a git command. See 'git --help'.\n",
            "\n",
            "The most similar command is\n",
            "\tcredential-store\n",
            "To https://huggingface.co/hussamalafandi/ppo-SnowballTarget\n",
            "   2c442d6..5376e9f  main -> main\n",
            "\n",
            "WARNING:huggingface_hub.repository:git: 'credential-store~' is not a git command. See 'git --help'.\n",
            "\n",
            "The most similar command is\n",
            "\tcredential-store\n",
            "To https://huggingface.co/hussamalafandi/ppo-SnowballTarget\n",
            "   2c442d6..5376e9f  main -> main\n",
            "\n",
            "Upload file SnowballTarget/SnowballTarget-49936.pt: 100%|█| 3.67M/3.67M [00:03<0\n",
            "\n",
            "Upload file SnowballTarget/SnowballTarget-200112.pt: 100%|█| 3.67M/3.67M [00:03<\u001b[A\n",
            "Upload file SnowballTarget/SnowballTarget-200112.pt: 100%|█| 3.67M/3.67M [00:03<\u001b[A\n",
            "\n",
            "\n",
            "Upload file SnowballTarget/SnowballTarget-99960.pt: 100%|█| 3.67M/3.67M [00:03<0\u001b[A\u001b[A\n",
            "\n",
            "Upload file SnowballTarget/SnowballTarget-99960.pt: 100%|█| 3.67M/3.67M [00:03<0\u001b[A\u001b[A\n",
            "\n",
            "\n",
            "\n",
            "Upload file SnowballTarget/SnowballTarget-199984.pt: 100%|█| 3.67M/3.67M [00:03<\u001b[A\u001b[A\u001b[A\n",
            "\n",
            "\n",
            "Upload file SnowballTarget/SnowballTarget-199984.pt: 100%|█| 3.67M/3.67M [00:03<\u001b[A\u001b[A\u001b[A\n",
            "\n",
            "\n",
            "\n",
            "\n",
            "Upload file SnowballTarget.onnx: 100%|████████| 631k/631k [00:03<00:00, 204kB/s]\u001b[A\u001b[A\u001b[A\u001b[A\n",
            "\n",
            "\n",
            "\n",
            "Upload file SnowballTarget.onnx: 100%|████████| 631k/631k [00:03<00:00, 203kB/s]\u001b[A\u001b[A\u001b[A\u001b[A\n",
            "\n",
            "\n",
            "\n",
            "\n",
            "\n",
            "Upload file SnowballTarget/SnowballTarget-49936.onnx: 100%|█| 631k/631k [00:03<0\u001b[A\u001b[A\u001b[A\u001b[A\u001b[A\n",
            "\n",
            "\n",
            "\n",
            "\n",
            "Upload file SnowballTarget/SnowballTarget-49936.onnx: 100%|█| 631k/631k [00:03<0\u001b[A\u001b[A\u001b[A\u001b[A\u001b[A\n",
            "\n",
            "\n",
            "\n",
            "\n",
            "\n",
            "\n",
            "Upload file SnowballTarget/SnowballTarget-149984.onnx: 100%|█| 631k/631k [00:03<\u001b[A\u001b[A\u001b[A\u001b[A\u001b[A\u001b[A\n",
            "\n",
            "\n",
            "\n",
            "\n",
            "\n",
            "Upload file SnowballTarget/SnowballTarget-149984.onnx: 100%|█| 631k/631k [00:03<\u001b[A\u001b[A\u001b[A\u001b[A\u001b[A\u001b[A\n",
            "\n",
            "\n",
            "\n",
            "\n",
            "\n",
            "\n",
            "\n",
            "Upload file SnowballTarget/SnowballTarget-149984.pt: 100%|█| 3.67M/3.67M [00:03<\u001b[A\u001b[A\u001b[A\u001b[A\u001b[A\u001b[A\u001b[A\n",
            "\n",
            "\n",
            "\n",
            "\n",
            "\n",
            "\n",
            "Upload file SnowballTarget/SnowballTarget-149984.pt: 100%|█| 3.67M/3.67M [00:03<\u001b[A\u001b[A\u001b[A\u001b[A\u001b[A\u001b[A\u001b[A\n",
            "\n",
            "\n",
            "\n",
            "\n",
            "\n",
            "\n",
            "\n",
            "\n",
            "Upload file SnowballTarget/SnowballTarget-99960.onnx: 100%|█| 631k/631k [00:02<0\u001b[A\u001b[A\u001b[A\u001b[A\u001b[A\u001b[A\u001b[A\u001b[A\n",
            "\n",
            "\n",
            "\n",
            "\n",
            "\n",
            "\n",
            "\n",
            "Upload file SnowballTarget/SnowballTarget-99960.onnx: 100%|█| 631k/631k [00:02<0\u001b[A\u001b[A\u001b[A\u001b[A\u001b[A\u001b[A\u001b[A\u001b[A\n",
            "\n",
            "\n",
            "\n",
            "\n",
            "\n",
            "\n",
            "\n",
            "\n",
            "\n",
            "Upload file SnowballTarget/events.out.tfevents.1681062873.HSM-PC.55379.0: 100%|█\u001b[A\u001b[A\u001b[A\u001b[A\u001b[A\u001b[A\u001b[A\u001b[A\u001b[A\n",
            "\n",
            "\n",
            "\n",
            "\n",
            "\n",
            "\n",
            "\n",
            "\n",
            "Upload file SnowballTarget/events.out.tfevents.1681062873.HSM-PC.55379.0: 100%|█\u001b[A\u001b[A\u001b[A\u001b[A\u001b[A\u001b[A\u001b[A\u001b[A\u001b[A\n",
            "\n",
            " Your model is pushed to the hub. You can view your model here: https://huggingface.co/hussamalafandi/ppo-SnowballTarget\n"
          ]
        }
      ],
      "source": [
        "!mlagents-push-to-hf  --run-id=\"SnowballTarget1\"  --local-dir=\"./results/SnowballTarget1\"  --repo-id=\"hussamalafandi/ppo-SnowballTarget\"  --commit-message=\"First training of SnowballTarget\""
      ]
    },
    {
      "cell_type": "markdown",
      "metadata": {
        "id": "yborB0850FTM"
      },
      "source": [
        "Else, if everything worked you should have this at the end of the process(but with a different url 😆) :\n",
        "\n",
        "\n",
        "\n",
        "```\n",
        "Your model is pushed to the hub. You can view your model here: https://huggingface.co/ThomasSimonini/ppo-SnowballTarget\n",
        "```\n",
        "\n",
        "It’s the link to your model, it contains a model card that explains how to use it, your Tensorboard and your config file. **What’s awesome is that it’s a git repository, that means you can have different commits, update your repository with a new push etc.**"
      ]
    },
    {
      "cell_type": "markdown",
      "metadata": {
        "id": "5Uaon2cg0NrL"
      },
      "source": [
        "But now comes the best: **being able to visualize your agent online 👀.**"
      ]
    },
    {
      "cell_type": "markdown",
      "metadata": {
        "id": "VMc4oOsE0QiZ"
      },
      "source": [
        "### Watch your agent playing 👀\n",
        "\n",
        "For this step it’s simple:\n",
        "\n",
        "1. Remember your repo-id\n",
        "\n",
        "2. Go here: https://singularite.itch.io/snowballtarget\n",
        "\n",
        "3. Launch the game and put it in full screen by clicking on the bottom right button\n",
        "\n",
        "<img src=\"https://huggingface.co/datasets/huggingface-deep-rl-course/course-images/resolve/main/en/unit7/snowballtarget_load.png\" alt=\"Snowballtarget load\"/>"
      ]
    },
    {
      "cell_type": "markdown",
      "metadata": {
        "id": "Djs8c5rR0Z8a"
      },
      "source": [
        "1. In step 1, choose your model repository which is the model id (in my case ThomasSimonini/ppo-SnowballTarget).\n",
        "\n",
        "2. In step 2, **choose what model you want to replay**:\n",
        "  - I have multiple one, since we saved a model every 500000 timesteps. \n",
        "  - But if I want the more recent I choose `SnowballTarget.onnx`\n",
        "\n",
        "👉 What’s nice **is to try with different models step to see the improvement of the agent.**\n",
        "\n",
        "And don't hesitate to share the best score your agent gets on discord in #rl-i-made-this channel 🔥\n",
        "\n",
        "Let's now try a harder environment called Pyramids..."
      ]
    },
    {
      "cell_type": "markdown",
      "metadata": {
        "id": "rVMwRi4y_tmx"
      },
      "source": [
        "## Pyramids 🏆\n",
        "\n",
        "### Download and move the environment zip file in `./training-envs-executables/linux/`\n",
        "- Our environment executable is in a zip file.\n",
        "- We need to download it and place it to `./training-envs-executables/linux/`\n",
        "- We use a linux executable because we use colab, and colab machines OS is Ubuntu (linux)"
      ]
    },
    {
      "cell_type": "markdown",
      "metadata": {
        "id": "NyqYYkLyAVMK"
      },
      "source": [
        "Download the file Pyramids.zip from https://drive.google.com/uc?export=download&id=1UiFNdKlsH0NTu32xV-giYUEVKV4-vc7H using `wget`. Check out the full solution to download large files from GDrive [here](https://bcrf.biochem.wisc.edu/2021/02/05/download-google-drive-files-using-wget/)"
      ]
    },
    {
      "cell_type": "code",
      "execution_count": 11,
      "metadata": {
        "id": "AxojCsSVAVMP"
      },
      "outputs": [
        {
          "name": "stdout",
          "output_type": "stream",
          "text": [
            "--2023-04-10 01:53:16--  https://docs.google.com/uc?export=download&confirm=t&id=1UiFNdKlsH0NTu32xV-giYUEVKV4-vc7H\n",
            "Resolving docs.google.com (docs.google.com)... 2a00:1450:4001:82a::200e, 142.250.186.174\n",
            "Connecting to docs.google.com (docs.google.com)|2a00:1450:4001:82a::200e|:443... connected.\n",
            "HTTP request sent, awaiting response... 303 See Other\n",
            "Location: https://doc-04-8c-docs.googleusercontent.com/docs/securesc/ha0ro937gcuc7l7deffksulhg5h7mbp1/lpt9l0l5lgc7fmb2qf9sfm07cpgufms6/1681084350000/09764732090272539193/*/1UiFNdKlsH0NTu32xV-giYUEVKV4-vc7H?e=download&uuid=1d12c520-2cc1-4d96-a3f8-5ed8f3876460 [following]\n",
            "Warning: wildcards not supported in HTTP.\n",
            "--2023-04-10 01:53:17--  https://doc-04-8c-docs.googleusercontent.com/docs/securesc/ha0ro937gcuc7l7deffksulhg5h7mbp1/lpt9l0l5lgc7fmb2qf9sfm07cpgufms6/1681084350000/09764732090272539193/*/1UiFNdKlsH0NTu32xV-giYUEVKV4-vc7H?e=download&uuid=1d12c520-2cc1-4d96-a3f8-5ed8f3876460\n",
            "Resolving doc-04-8c-docs.googleusercontent.com (doc-04-8c-docs.googleusercontent.com)... 2a00:1450:4001:802::2001, 216.58.212.161\n",
            "Connecting to doc-04-8c-docs.googleusercontent.com (doc-04-8c-docs.googleusercontent.com)|2a00:1450:4001:802::2001|:443... connected.\n",
            "HTTP request sent, awaiting response... 200 OK\n",
            "Length: 42907187 (41M) [application/zip]\n",
            "Saving to: ‘./training-envs-executables/linux/Pyramids.zip’\n",
            "\n",
            "./training-envs-exe 100%[===================>]  40,92M  22,0MB/s    in 1,9s    \n",
            "\n",
            "2023-04-10 01:53:19 (22,0 MB/s) - ‘./training-envs-executables/linux/Pyramids.zip’ saved [42907187/42907187]\n",
            "\n"
          ]
        }
      ],
      "source": [
        "!wget --load-cookies /tmp/cookies.txt \"https://docs.google.com/uc?export=download&confirm=$(wget --quiet --save-cookies /tmp/cookies.txt --keep-session-cookies --no-check-certificate 'https://docs.google.com/uc?export=download&id=1UiFNdKlsH0NTu32xV-giYUEVKV4-vc7H' -O- | sed -rn 's/.*confirm=([0-9A-Za-z_]+).*/\\1\\n/p')&id=1UiFNdKlsH0NTu32xV-giYUEVKV4-vc7H\" -O ./training-envs-executables/linux/Pyramids.zip && rm -rf /tmp/cookies.txt"
      ]
    },
    {
      "cell_type": "markdown",
      "metadata": {
        "id": "bfs6CTJ1AVMP"
      },
      "source": [
        "**OR** Download directly to local machine and then drag and drop the file from local machine to `./training-envs-executables/linux`"
      ]
    },
    {
      "cell_type": "markdown",
      "metadata": {
        "id": "H7JmgOwcSSmF"
      },
      "source": [
        "Wait for the upload to finish and then run the command below. \n",
        "\n",
        "![image.png](data:image/png;base64,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)"
      ]
    },
    {
      "cell_type": "markdown",
      "metadata": {
        "id": "iWUUcs0_794U"
      },
      "source": [
        "Unzip it"
      ]
    },
    {
      "cell_type": "code",
      "execution_count": 12,
      "metadata": {
        "id": "i2E3K4V2AVMP"
      },
      "outputs": [
        {
          "name": "stdout",
          "output_type": "stream",
          "text": [
            "Archive:  ./training-envs-executables/linux/Pyramids.zip\n",
            "   creating: ./training-envs-executables/linux/Pyramids/\n",
            "  inflating: ./training-envs-executables/linux/Pyramids/UnityPlayer.so  \n",
            "  inflating: ./training-envs-executables/linux/Pyramids/Pyramids  \n",
            "   creating: ./training-envs-executables/linux/Pyramids/Pyramids_BurstDebugInformation_DoNotShip/\n",
            "   creating: ./training-envs-executables/linux/Pyramids/Pyramids_BurstDebugInformation_DoNotShip/Data/\n",
            "   creating: ./training-envs-executables/linux/Pyramids/Pyramids_BurstDebugInformation_DoNotShip/Data/Plugins/\n",
            "  inflating: ./training-envs-executables/linux/Pyramids/Pyramids_BurstDebugInformation_DoNotShip/Data/Plugins/lib_burst_generated.txt  \n",
            "   creating: ./training-envs-executables/linux/Pyramids/Pyramids_Data/\n",
            "  inflating: ./training-envs-executables/linux/Pyramids/Pyramids_Data/resources.assets  \n",
            "  inflating: ./training-envs-executables/linux/Pyramids/Pyramids_Data/app.info  \n",
            "  inflating: ./training-envs-executables/linux/Pyramids/Pyramids_Data/boot.config  \n",
            "  inflating: ./training-envs-executables/linux/Pyramids/Pyramids_Data/level0  \n",
            "  inflating: ./training-envs-executables/linux/Pyramids/Pyramids_Data/globalgamemanagers  \n",
            "  inflating: ./training-envs-executables/linux/Pyramids/Pyramids_Data/ScriptingAssemblies.json  \n",
            "  inflating: ./training-envs-executables/linux/Pyramids/Pyramids_Data/sharedassets0.assets  \n",
            "  inflating: ./training-envs-executables/linux/Pyramids/Pyramids_Data/sharedassets0.assets.resS  \n",
            "  inflating: ./training-envs-executables/linux/Pyramids/Pyramids_Data/RuntimeInitializeOnLoads.json  \n",
            "  inflating: ./training-envs-executables/linux/Pyramids/Pyramids_Data/globalgamemanagers.assets  \n",
            "   creating: ./training-envs-executables/linux/Pyramids/Pyramids_Data/Managed/\n",
            "  inflating: ./training-envs-executables/linux/Pyramids/Pyramids_Data/Managed/UnityEngine.StreamingModule.dll  \n",
            "  inflating: ./training-envs-executables/linux/Pyramids/Pyramids_Data/Managed/UnityEngine.VideoModule.pdb  \n",
            "  inflating: ./training-envs-executables/linux/Pyramids/Pyramids_Data/Managed/UnityEngine.SharedInternalsModule.dll  \n",
            "  inflating: ./training-envs-executables/linux/Pyramids/Pyramids_Data/Managed/UnityEngine.PerformanceReportingModule.dll  \n",
            "  inflating: ./training-envs-executables/linux/Pyramids/Pyramids_Data/Managed/UnityEngine.dll  \n",
            "  inflating: ./training-envs-executables/linux/Pyramids/Pyramids_Data/Managed/Unity.InputSystem.pdb  \n",
            "  inflating: ./training-envs-executables/linux/Pyramids/Pyramids_Data/Managed/UnityEngine.UIElementsModule.pdb  \n",
            "  inflating: ./training-envs-executables/linux/Pyramids/Pyramids_Data/Managed/UnityEngine.UnityCurlModule.pdb  \n",
            "  inflating: ./training-envs-executables/linux/Pyramids/Pyramids_Data/Managed/UnityEngine.InputModule.dll  \n",
            "  inflating: ./training-envs-executables/linux/Pyramids/Pyramids_Data/Managed/UnityEngine.DSPGraphModule.pdb  \n",
            "  inflating: ./training-envs-executables/linux/Pyramids/Pyramids_Data/Managed/UnityEngine.ScreenCaptureModule.dll  \n",
            "  inflating: ./training-envs-executables/linux/Pyramids/Pyramids_Data/Managed/UnityEngine.CrashReportingModule.pdb  \n",
            "  inflating: ./training-envs-executables/linux/Pyramids/Pyramids_Data/Managed/Unity.Burst.Cecil.Mdb.dll  \n",
            "  inflating: ./training-envs-executables/linux/Pyramids/Pyramids_Data/Managed/UnityEngine.UI.dll  \n",
            "  inflating: ./training-envs-executables/linux/Pyramids/Pyramids_Data/Managed/Mono.Security.dll  \n",
            "  inflating: ./training-envs-executables/linux/Pyramids/Pyramids_Data/Managed/UnityEngine.UnityWebRequestAssetBundleModule.dll  \n",
            "  inflating: ./training-envs-executables/linux/Pyramids/Pyramids_Data/Managed/Assembly-CSharp.dll  \n",
            "  inflating: ./training-envs-executables/linux/Pyramids/Pyramids_Data/Managed/UnityEngine.VirtualTexturingModule.dll  \n",
            "  inflating: ./training-envs-executables/linux/Pyramids/Pyramids_Data/Managed/UnityEngine.UnityWebRequestWWWModule.dll  \n",
            "  inflating: ./training-envs-executables/linux/Pyramids/Pyramids_Data/Managed/UnityEngine.DSPGraphModule.dll  \n",
            "  inflating: ./training-envs-executables/linux/Pyramids/Pyramids_Data/Managed/Unity.ML-Agents.Extensions.dll  \n",
            "  inflating: ./training-envs-executables/linux/Pyramids/Pyramids_Data/Managed/UnityEngine.SubstanceModule.dll  \n",
            "  inflating: ./training-envs-executables/linux/Pyramids/Pyramids_Data/Managed/Google.Protobuf.pdb  \n",
            "  inflating: ./training-envs-executables/linux/Pyramids/Pyramids_Data/Managed/System.Transactions.dll  \n",
            "  inflating: ./training-envs-executables/linux/Pyramids/Pyramids_Data/Managed/UnityEngine.JSONSerializeModule.dll  \n",
            "  inflating: ./training-envs-executables/linux/Pyramids/Pyramids_Data/Managed/Unity.Barracuda.ONNX.dll  \n",
            "  inflating: ./training-envs-executables/linux/Pyramids/Pyramids_Data/Managed/Unity.Barracuda.BurstBLAS.pdb  \n",
            "  inflating: ./training-envs-executables/linux/Pyramids/Pyramids_Data/Managed/UnityEngine.TerrainPhysicsModule.pdb  \n",
            "  inflating: ./training-envs-executables/linux/Pyramids/Pyramids_Data/Managed/UnityEngine.SubsystemsModule.pdb  \n",
            "  inflating: ./training-envs-executables/linux/Pyramids/Pyramids_Data/Managed/System.IO.Abstractions.dll  \n",
            "  inflating: ./training-envs-executables/linux/Pyramids/Pyramids_Data/Managed/Unity.ML-Agents.Extensions.Input.pdb  \n",
            "  inflating: ./training-envs-executables/linux/Pyramids/Pyramids_Data/Managed/UnityEngine.Physics2DModule.pdb  \n",
            "  inflating: ./training-envs-executables/linux/Pyramids/Pyramids_Data/Managed/UnityEngine.InputLegacyModule.pdb  \n",
            "  inflating: ./training-envs-executables/linux/Pyramids/Pyramids_Data/Managed/UnityEngine.IMGUIModule.pdb  \n",
            "  inflating: ./training-envs-executables/linux/Pyramids/Pyramids_Data/Managed/UnityEngine.ClothModule.dll  \n",
            "  inflating: ./training-envs-executables/linux/Pyramids/Pyramids_Data/Managed/UnityEngine.ClusterRendererModule.pdb  \n",
            "  inflating: ./training-envs-executables/linux/Pyramids/Pyramids_Data/Managed/System.Runtime.Serialization.dll  \n",
            "  inflating: ./training-envs-executables/linux/Pyramids/Pyramids_Data/Managed/UnityEngine.SpriteShapeModule.pdb  \n",
            "  inflating: ./training-envs-executables/linux/Pyramids/Pyramids_Data/Managed/System.Numerics.dll  \n",
            "  inflating: ./training-envs-executables/linux/Pyramids/Pyramids_Data/Managed/Unity.ML-Agents.CommunicatorObjects.pdb  \n",
            "  inflating: ./training-envs-executables/linux/Pyramids/Pyramids_Data/Managed/UnityEngine.UI.pdb  \n",
            "  inflating: ./training-envs-executables/linux/Pyramids/Pyramids_Data/Managed/UnityEngine.TLSModule.dll  \n",
            "  inflating: ./training-envs-executables/linux/Pyramids/Pyramids_Data/Managed/UnityEngine.VRModule.pdb  \n",
            "  inflating: ./training-envs-executables/linux/Pyramids/Pyramids_Data/Managed/UnityEngine.VirtualTexturingModule.pdb  \n",
            "  inflating: ./training-envs-executables/linux/Pyramids/Pyramids_Data/Managed/UnityEngine.VFXModule.pdb  \n",
            "  inflating: ./training-envs-executables/linux/Pyramids/Pyramids_Data/Managed/UnityEngine.GIModule.pdb  \n",
            "  inflating: ./training-envs-executables/linux/Pyramids/Pyramids_Data/Managed/Unity.Burst.Unsafe.dll  \n",
            "  inflating: ./training-envs-executables/linux/Pyramids/Pyramids_Data/Managed/UnityEngine.UNETModule.pdb  \n",
            "  inflating: ./training-envs-executables/linux/Pyramids/Pyramids_Data/Managed/UnityEngine.UIElementsModule.dll  \n",
            "  inflating: ./training-envs-executables/linux/Pyramids/Pyramids_Data/Managed/System.IO.Abstractions.TestingHelpers.dll  \n",
            "  inflating: ./training-envs-executables/linux/Pyramids/Pyramids_Data/Managed/UnityEngine.AndroidJNIModule.dll  \n",
            "  inflating: ./training-envs-executables/linux/Pyramids/Pyramids_Data/Managed/UnityEngine.UnityTestProtocolModule.pdb  \n",
            "  inflating: ./training-envs-executables/linux/Pyramids/Pyramids_Data/Managed/Unity.Barracuda.ONNX.pdb  \n",
            "  inflating: ./training-envs-executables/linux/Pyramids/Pyramids_Data/Managed/UnityEngine.SubsystemsModule.dll  \n",
            "  inflating: ./training-envs-executables/linux/Pyramids/Pyramids_Data/Managed/UnityEngine.UnityWebRequestAudioModule.dll  \n",
            "  inflating: ./training-envs-executables/linux/Pyramids/Pyramids_Data/Managed/System.Data.dll  \n",
            "  inflating: ./training-envs-executables/linux/Pyramids/Pyramids_Data/Managed/UnityEngine.SpriteMaskModule.pdb  \n",
            "  inflating: ./training-envs-executables/linux/Pyramids/Pyramids_Data/Managed/UnityEngine.AIModule.pdb  \n",
            "  inflating: ./training-envs-executables/linux/Pyramids/Pyramids_Data/Managed/UnityEngine.ScreenCaptureModule.pdb  \n",
            "  inflating: ./training-envs-executables/linux/Pyramids/Pyramids_Data/Managed/UnityEngine.ProfilerModule.dll  \n",
            "  inflating: ./training-envs-executables/linux/Pyramids/Pyramids_Data/Managed/UnityEngine.TilemapModule.dll  \n",
            "  inflating: ./training-envs-executables/linux/Pyramids/Pyramids_Data/Managed/System.ComponentModel.Composition.dll  \n",
            "  inflating: ./training-envs-executables/linux/Pyramids/Pyramids_Data/Managed/UnityEngine.UmbraModule.dll  \n",
            "  inflating: ./training-envs-executables/linux/Pyramids/Pyramids_Data/Managed/UnityEngine.PerformanceReportingModule.pdb  \n",
            "  inflating: ./training-envs-executables/linux/Pyramids/Pyramids_Data/Managed/Unity.Barracuda.BurstBLAS.dll  \n",
            "  inflating: ./training-envs-executables/linux/Pyramids/Pyramids_Data/Managed/UnityEngine.SpriteShapeModule.dll  \n",
            "  inflating: ./training-envs-executables/linux/Pyramids/Pyramids_Data/Managed/UnityEngine.HotReloadModule.pdb  \n",
            "  inflating: ./training-envs-executables/linux/Pyramids/Pyramids_Data/Managed/UnityEngine.GameCenterModule.pdb  \n",
            "  inflating: ./training-envs-executables/linux/Pyramids/Pyramids_Data/Managed/System.EnterpriseServices.dll  \n",
            "  inflating: ./training-envs-executables/linux/Pyramids/Pyramids_Data/Managed/UnityEngine.VFXModule.dll  \n",
            "  inflating: ./training-envs-executables/linux/Pyramids/Pyramids_Data/Managed/UnityEngine.PhysicsModule.dll  \n",
            "  inflating: ./training-envs-executables/linux/Pyramids/Pyramids_Data/Managed/System.Drawing.dll  \n",
            "  inflating: ./training-envs-executables/linux/Pyramids/Pyramids_Data/Managed/Unity.InputSystem.dll  \n",
            "  inflating: ./training-envs-executables/linux/Pyramids/Pyramids_Data/Managed/Google.Protobuf.dll  \n",
            "  inflating: ./training-envs-executables/linux/Pyramids/Pyramids_Data/Managed/Unity.Barracuda.dll  \n",
            "  inflating: ./training-envs-executables/linux/Pyramids/Pyramids_Data/Managed/UnityEngine.TextRenderingModule.pdb  \n",
            "  inflating: ./training-envs-executables/linux/Pyramids/Pyramids_Data/Managed/Unity.Mathematics.pdb  \n",
            "  inflating: ./training-envs-executables/linux/Pyramids/Pyramids_Data/Managed/UnityEngine.DirectorModule.dll  \n",
            "  inflating: ./training-envs-executables/linux/Pyramids/Pyramids_Data/Managed/Unity.ML-Agents.pdb  \n",
            "  inflating: ./training-envs-executables/linux/Pyramids/Pyramids_Data/Managed/UnityEngine.AccessibilityModule.dll  \n",
            "  inflating: ./training-envs-executables/linux/Pyramids/Pyramids_Data/Managed/System.Xml.dll  \n",
            "  inflating: ./training-envs-executables/linux/Pyramids/Pyramids_Data/Managed/UnityEngine.UmbraModule.pdb  \n",
            "  inflating: ./training-envs-executables/linux/Pyramids/Pyramids_Data/Managed/UnityEngine.LocalizationModule.pdb  \n",
            "  inflating: ./training-envs-executables/linux/Pyramids/Pyramids_Data/Managed/UnityEngine.PhysicsModule.pdb  \n",
            "  inflating: ./training-envs-executables/linux/Pyramids/Pyramids_Data/Managed/UnityEngine.TextRenderingModule.dll  \n",
            "  inflating: ./training-envs-executables/linux/Pyramids/Pyramids_Data/Managed/UnityEngine.ClusterRendererModule.dll  \n",
            "  inflating: ./training-envs-executables/linux/Pyramids/Pyramids_Data/Managed/UnityEngine.VehiclesModule.dll  \n",
            "  inflating: ./training-envs-executables/linux/Pyramids/Pyramids_Data/Managed/System.IO.Compression.dll  \n",
            "  inflating: ./training-envs-executables/linux/Pyramids/Pyramids_Data/Managed/Unity.ML-Agents.dll  \n",
            "  inflating: ./training-envs-executables/linux/Pyramids/Pyramids_Data/Managed/UnityEngine.UnityWebRequestTextureModule.dll  \n",
            "  inflating: ./training-envs-executables/linux/Pyramids/Pyramids_Data/Managed/UnityEngine.TerrainModule.pdb  \n",
            "  inflating: ./training-envs-executables/linux/Pyramids/Pyramids_Data/Managed/UnityEngine.UnityTestProtocolModule.dll  \n",
            "  inflating: ./training-envs-executables/linux/Pyramids/Pyramids_Data/Managed/UnityEngine.UIElementsNativeModule.dll  \n",
            "  inflating: ./training-envs-executables/linux/Pyramids/Pyramids_Data/Managed/UnityEngine.XRModule.pdb  \n",
            "  inflating: ./training-envs-executables/linux/Pyramids/Pyramids_Data/Managed/UnityEngine.HotReloadModule.dll  \n",
            "  inflating: ./training-envs-executables/linux/Pyramids/Pyramids_Data/Managed/UnityEngine.ImageConversionModule.pdb  \n",
            "  inflating: ./training-envs-executables/linux/Pyramids/Pyramids_Data/Managed/UnityEngine.ClothModule.pdb  \n",
            "  inflating: ./training-envs-executables/linux/Pyramids/Pyramids_Data/Managed/UnityEngine.UIElementsNativeModule.pdb  \n",
            "  inflating: ./training-envs-executables/linux/Pyramids/Pyramids_Data/Managed/UnityEngine.TextCoreFontEngineModule.pdb  \n",
            "  inflating: ./training-envs-executables/linux/Pyramids/Pyramids_Data/Managed/UnityEngine.UnityWebRequestAudioModule.pdb  \n",
            "  inflating: ./training-envs-executables/linux/Pyramids/Pyramids_Data/Managed/UnityEngine.Physics2DModule.dll  \n",
            "  inflating: ./training-envs-executables/linux/Pyramids/Pyramids_Data/Managed/UnityEngine.TextCoreTextEngineModule.dll  \n",
            "  inflating: ./training-envs-executables/linux/Pyramids/Pyramids_Data/Managed/UnityEngine.SpriteMaskModule.dll  \n",
            "  inflating: ./training-envs-executables/linux/Pyramids/Pyramids_Data/Managed/UnityEngine.CrashReportingModule.dll  \n",
            "  inflating: ./training-envs-executables/linux/Pyramids/Pyramids_Data/Managed/System.dll  \n",
            "  inflating: ./training-envs-executables/linux/Pyramids/Pyramids_Data/Managed/UnityEngine.GIModule.dll  \n",
            "  inflating: ./training-envs-executables/linux/Pyramids/Pyramids_Data/Managed/UnityEngine.DirectorModule.pdb  \n",
            "  inflating: ./training-envs-executables/linux/Pyramids/Pyramids_Data/Managed/Unity.Mathematics.dll  \n",
            "  inflating: ./training-envs-executables/linux/Pyramids/Pyramids_Data/Managed/System.Core.dll  \n",
            "  inflating: ./training-envs-executables/linux/Pyramids/Pyramids_Data/Managed/UnityEngine.UnityAnalyticsModule.dll  \n",
            "  inflating: ./training-envs-executables/linux/Pyramids/Pyramids_Data/Managed/Newtonsoft.Json.pdb  \n",
            "  inflating: ./training-envs-executables/linux/Pyramids/Pyramids_Data/Managed/UnityEngine.UnityWebRequestAssetBundleModule.pdb  \n",
            "  inflating: ./training-envs-executables/linux/Pyramids/Pyramids_Data/Managed/UnityEngine.SharedInternalsModule.pdb  \n",
            "  inflating: ./training-envs-executables/linux/Pyramids/Pyramids_Data/Managed/UnityEngine.AudioModule.pdb  \n",
            "  inflating: ./training-envs-executables/linux/Pyramids/Pyramids_Data/Managed/netstandard.dll  \n",
            "  inflating: ./training-envs-executables/linux/Pyramids/Pyramids_Data/Managed/UnityEngine.UnityWebRequestWWWModule.pdb  \n",
            "  inflating: ./training-envs-executables/linux/Pyramids/Pyramids_Data/Managed/UnityEngine.StreamingModule.pdb  \n",
            "  inflating: ./training-envs-executables/linux/Pyramids/Pyramids_Data/Managed/UnityEngine.GridModule.dll  \n",
            "  inflating: ./training-envs-executables/linux/Pyramids/Pyramids_Data/Managed/UnityEngine.UnityAnalyticsModule.pdb  \n",
            "  inflating: ./training-envs-executables/linux/Pyramids/Pyramids_Data/Managed/System.Runtime.dll  \n",
            "  inflating: ./training-envs-executables/linux/Pyramids/Pyramids_Data/Managed/System.Interactive.Async.dll  \n",
            "  inflating: ./training-envs-executables/linux/Pyramids/Pyramids_Data/Managed/UnityEngine.VideoModule.dll  \n",
            "  inflating: ./training-envs-executables/linux/Pyramids/Pyramids_Data/Managed/System.Security.dll  \n",
            "  inflating: ./training-envs-executables/linux/Pyramids/Pyramids_Data/Managed/System.IO.Compression.FileSystem.dll  \n",
            "  inflating: ./training-envs-executables/linux/Pyramids/Pyramids_Data/Managed/Unity.ML-Agents.CommunicatorObjects.dll  \n",
            "  inflating: ./training-envs-executables/linux/Pyramids/Pyramids_Data/Managed/UnityEngine.TilemapModule.pdb  \n",
            "  inflating: ./training-envs-executables/linux/Pyramids/Pyramids_Data/Managed/UnityEngine.UnityWebRequestTextureModule.pdb  \n",
            "  inflating: ./training-envs-executables/linux/Pyramids/Pyramids_Data/Managed/UnityEngine.AccessibilityModule.pdb  \n",
            "  inflating: ./training-envs-executables/linux/Pyramids/Pyramids_Data/Managed/UnityEngine.AndroidJNIModule.pdb  \n",
            "  inflating: ./training-envs-executables/linux/Pyramids/Pyramids_Data/Managed/UnityEngine.TextCoreFontEngineModule.dll  \n",
            "  inflating: ./training-envs-executables/linux/Pyramids/Pyramids_Data/Managed/UnityEngine.AIModule.dll  \n",
            "  inflating: ./training-envs-executables/linux/Pyramids/Pyramids_Data/Managed/System.Configuration.dll  \n",
            "  inflating: ./training-envs-executables/linux/Pyramids/Pyramids_Data/Managed/Unity.Burst.dll  \n",
            "  inflating: ./training-envs-executables/linux/Pyramids/Pyramids_Data/Managed/UnityEngine.UnityConnectModule.pdb  \n",
            "  inflating: ./training-envs-executables/linux/Pyramids/Pyramids_Data/Managed/UnityEngine.UIModule.dll  \n",
            "  inflating: ./training-envs-executables/linux/Pyramids/Pyramids_Data/Managed/UnityEngine.UnityCurlModule.dll  \n",
            "  inflating: ./training-envs-executables/linux/Pyramids/Pyramids_Data/Managed/UnityEngine.AssetBundleModule.dll  \n",
            "  inflating: ./training-envs-executables/linux/Pyramids/Pyramids_Data/Managed/UnityEngine.UnityConnectModule.dll  \n",
            "  inflating: ./training-envs-executables/linux/Pyramids/Pyramids_Data/Managed/UnityEngine.pdb  \n",
            "  inflating: ./training-envs-executables/linux/Pyramids/Pyramids_Data/Managed/UnityEngine.VRModule.dll  \n",
            "  inflating: ./training-envs-executables/linux/Pyramids/Pyramids_Data/Managed/Unity.Burst.Cecil.dll  \n",
            "  inflating: ./training-envs-executables/linux/Pyramids/Pyramids_Data/Managed/UnityEngine.SubstanceModule.pdb  \n",
            "  inflating: ./training-envs-executables/linux/Pyramids/Pyramids_Data/Managed/UnityEngine.ClusterInputModule.pdb  \n",
            "  inflating: ./training-envs-executables/linux/Pyramids/Pyramids_Data/Managed/UnityEngine.UIModule.pdb  \n",
            "  inflating: ./training-envs-executables/linux/Pyramids/Pyramids_Data/Managed/UnityEngine.UnityWebRequestModule.dll  \n",
            "  inflating: ./training-envs-executables/linux/Pyramids/Pyramids_Data/Managed/UnityEngine.InputModule.pdb  \n",
            "  inflating: ./training-envs-executables/linux/Pyramids/Pyramids_Data/Managed/Unity.ML-Agents.Extensions.Input.dll  \n",
            "  inflating: ./training-envs-executables/linux/Pyramids/Pyramids_Data/Managed/UnityEngine.AnimationModule.pdb  \n",
            "  inflating: ./training-envs-executables/linux/Pyramids/Pyramids_Data/Managed/UnityEngine.JSONSerializeModule.pdb  \n",
            "  inflating: ./training-envs-executables/linux/Pyramids/Pyramids_Data/Managed/UnityEngine.UNETModule.dll  \n",
            "  inflating: ./training-envs-executables/linux/Pyramids/Pyramids_Data/Managed/UnityEngine.ProfilerModule.pdb  \n",
            "  inflating: ./training-envs-executables/linux/Pyramids/Pyramids_Data/Managed/System.Data.DataSetExtensions.dll  \n",
            "  inflating: ./training-envs-executables/linux/Pyramids/Pyramids_Data/Managed/UnityEngine.VehiclesModule.pdb  \n",
            "  inflating: ./training-envs-executables/linux/Pyramids/Pyramids_Data/Managed/UnityEngine.XRModule.dll  \n",
            "  inflating: ./training-envs-executables/linux/Pyramids/Pyramids_Data/Managed/UnityEngine.GameCenterModule.dll  \n",
            "  inflating: ./training-envs-executables/linux/Pyramids/Pyramids_Data/Managed/UnityEngine.ImageConversionModule.dll  \n",
            "  inflating: ./training-envs-executables/linux/Pyramids/Pyramids_Data/Managed/UnityEngine.CoreModule.dll  \n",
            "  inflating: ./training-envs-executables/linux/Pyramids/Pyramids_Data/Managed/System.ServiceModel.Internals.dll  \n",
            "  inflating: ./training-envs-executables/linux/Pyramids/Pyramids_Data/Managed/UnityEngine.TerrainModule.dll  \n",
            "  inflating: ./training-envs-executables/linux/Pyramids/Pyramids_Data/Managed/Assembly-CSharp.pdb  \n",
            "  inflating: ./training-envs-executables/linux/Pyramids/Pyramids_Data/Managed/UnityEngine.TerrainPhysicsModule.dll  \n",
            "  inflating: ./training-envs-executables/linux/Pyramids/Pyramids_Data/Managed/System.Net.Http.dll  \n",
            "  inflating: ./training-envs-executables/linux/Pyramids/Pyramids_Data/Managed/UnityEngine.AudioModule.dll  \n",
            "  inflating: ./training-envs-executables/linux/Pyramids/Pyramids_Data/Managed/Newtonsoft.Json.dll  \n",
            "  inflating: ./training-envs-executables/linux/Pyramids/Pyramids_Data/Managed/UnityEngine.TextCoreTextEngineModule.pdb  \n",
            "  inflating: ./training-envs-executables/linux/Pyramids/Pyramids_Data/Managed/UnityEngine.ParticleSystemModule.pdb  \n",
            "  inflating: ./training-envs-executables/linux/Pyramids/Pyramids_Data/Managed/UnityEngine.IMGUIModule.dll  \n",
            "  inflating: ./training-envs-executables/linux/Pyramids/Pyramids_Data/Managed/UnityEngine.WindModule.pdb  \n",
            "  inflating: ./training-envs-executables/linux/Pyramids/Pyramids_Data/Managed/UnityEngine.AssetBundleModule.pdb  \n",
            "  inflating: ./training-envs-executables/linux/Pyramids/Pyramids_Data/Managed/Unity.Barracuda.pdb  \n",
            "  inflating: ./training-envs-executables/linux/Pyramids/Pyramids_Data/Managed/UnityEngine.InputLegacyModule.dll  \n",
            "  inflating: ./training-envs-executables/linux/Pyramids/Pyramids_Data/Managed/UnityEngine.ParticleSystemModule.dll  \n",
            "  inflating: ./training-envs-executables/linux/Pyramids/Pyramids_Data/Managed/UnityEngine.UnityWebRequestModule.pdb  \n",
            "  inflating: ./training-envs-executables/linux/Pyramids/Pyramids_Data/Managed/UnityEngine.WindModule.dll  \n",
            "  inflating: ./training-envs-executables/linux/Pyramids/Pyramids_Data/Managed/UnityEngine.LocalizationModule.dll  \n",
            "  inflating: ./training-envs-executables/linux/Pyramids/Pyramids_Data/Managed/UnityEngine.ClusterInputModule.dll  \n",
            "  inflating: ./training-envs-executables/linux/Pyramids/Pyramids_Data/Managed/UnityEngine.RuntimeInitializeOnLoadManagerInitializerModule.pdb  \n",
            "  inflating: ./training-envs-executables/linux/Pyramids/Pyramids_Data/Managed/UnityEngine.GridModule.pdb  \n",
            "  inflating: ./training-envs-executables/linux/Pyramids/Pyramids_Data/Managed/Unity.Burst.pdb  \n",
            "  inflating: ./training-envs-executables/linux/Pyramids/Pyramids_Data/Managed/Unity.ML-Agents.Extensions.pdb  \n",
            "  inflating: ./training-envs-executables/linux/Pyramids/Pyramids_Data/Managed/UnityEngine.AnimationModule.dll  \n",
            "  inflating: ./training-envs-executables/linux/Pyramids/Pyramids_Data/Managed/System.Xml.Linq.dll  \n",
            "  inflating: ./training-envs-executables/linux/Pyramids/Pyramids_Data/Managed/UnityEngine.TLSModule.pdb  \n",
            "  inflating: ./training-envs-executables/linux/Pyramids/Pyramids_Data/Managed/UnityEngine.CoreModule.pdb  \n",
            "  inflating: ./training-envs-executables/linux/Pyramids/Pyramids_Data/Managed/UnityEngine.RuntimeInitializeOnLoadManagerInitializerModule.dll  \n",
            "  inflating: ./training-envs-executables/linux/Pyramids/Pyramids_Data/Managed/Unity.Burst.Cecil.Rocks.dll  \n",
            "  inflating: ./training-envs-executables/linux/Pyramids/Pyramids_Data/Managed/Unity.Burst.Cecil.Pdb.dll  \n",
            "  inflating: ./training-envs-executables/linux/Pyramids/Pyramids_Data/Managed/Grpc.Core.dll  \n",
            "  inflating: ./training-envs-executables/linux/Pyramids/Pyramids_Data/Managed/mscorlib.dll  \n",
            "   creating: ./training-envs-executables/linux/Pyramids/Pyramids_Data/MonoBleedingEdge/\n",
            "   creating: ./training-envs-executables/linux/Pyramids/Pyramids_Data/MonoBleedingEdge/etc/\n",
            "  inflating: ./training-envs-executables/linux/Pyramids/Pyramids_Data/MonoBleedingEdge/etc/config  \n",
            "   creating: ./training-envs-executables/linux/Pyramids/Pyramids_Data/MonoBleedingEdge/etc/mono/\n",
            "  inflating: ./training-envs-executables/linux/Pyramids/Pyramids_Data/MonoBleedingEdge/etc/mono/config  \n",
            "  inflating: ./training-envs-executables/linux/Pyramids/Pyramids_Data/MonoBleedingEdge/etc/mono/browscap.ini  \n",
            "   creating: ./training-envs-executables/linux/Pyramids/Pyramids_Data/MonoBleedingEdge/etc/mono/4.0/\n",
            "  inflating: ./training-envs-executables/linux/Pyramids/Pyramids_Data/MonoBleedingEdge/etc/mono/4.0/DefaultWsdlHelpGenerator.aspx  \n",
            "  inflating: ./training-envs-executables/linux/Pyramids/Pyramids_Data/MonoBleedingEdge/etc/mono/4.0/settings.map  \n",
            "  inflating: ./training-envs-executables/linux/Pyramids/Pyramids_Data/MonoBleedingEdge/etc/mono/4.0/web.config  \n",
            "  inflating: ./training-envs-executables/linux/Pyramids/Pyramids_Data/MonoBleedingEdge/etc/mono/4.0/machine.config  \n",
            "   creating: ./training-envs-executables/linux/Pyramids/Pyramids_Data/MonoBleedingEdge/etc/mono/4.0/Browsers/\n",
            "  inflating: ./training-envs-executables/linux/Pyramids/Pyramids_Data/MonoBleedingEdge/etc/mono/4.0/Browsers/Compat.browser  \n",
            "   creating: ./training-envs-executables/linux/Pyramids/Pyramids_Data/MonoBleedingEdge/etc/mono/4.5/\n",
            "  inflating: ./training-envs-executables/linux/Pyramids/Pyramids_Data/MonoBleedingEdge/etc/mono/4.5/settings.map  \n",
            "  inflating: ./training-envs-executables/linux/Pyramids/Pyramids_Data/MonoBleedingEdge/etc/mono/4.5/DefaultWsdlHelpGenerator.aspx  \n",
            "  inflating: ./training-envs-executables/linux/Pyramids/Pyramids_Data/MonoBleedingEdge/etc/mono/4.5/web.config  \n",
            "  inflating: ./training-envs-executables/linux/Pyramids/Pyramids_Data/MonoBleedingEdge/etc/mono/4.5/machine.config  \n",
            "   creating: ./training-envs-executables/linux/Pyramids/Pyramids_Data/MonoBleedingEdge/etc/mono/4.5/Browsers/\n",
            "  inflating: ./training-envs-executables/linux/Pyramids/Pyramids_Data/MonoBleedingEdge/etc/mono/4.5/Browsers/Compat.browser  \n",
            "   creating: ./training-envs-executables/linux/Pyramids/Pyramids_Data/MonoBleedingEdge/etc/mono/2.0/\n",
            "  inflating: ./training-envs-executables/linux/Pyramids/Pyramids_Data/MonoBleedingEdge/etc/mono/2.0/DefaultWsdlHelpGenerator.aspx  \n",
            "  inflating: ./training-envs-executables/linux/Pyramids/Pyramids_Data/MonoBleedingEdge/etc/mono/2.0/settings.map  \n",
            "  inflating: ./training-envs-executables/linux/Pyramids/Pyramids_Data/MonoBleedingEdge/etc/mono/2.0/web.config  \n",
            "  inflating: ./training-envs-executables/linux/Pyramids/Pyramids_Data/MonoBleedingEdge/etc/mono/2.0/machine.config  \n",
            "   creating: ./training-envs-executables/linux/Pyramids/Pyramids_Data/MonoBleedingEdge/etc/mono/2.0/Browsers/\n",
            "  inflating: ./training-envs-executables/linux/Pyramids/Pyramids_Data/MonoBleedingEdge/etc/mono/2.0/Browsers/Compat.browser  \n",
            "   creating: ./training-envs-executables/linux/Pyramids/Pyramids_Data/MonoBleedingEdge/etc/mono/mconfig/\n",
            "  inflating: ./training-envs-executables/linux/Pyramids/Pyramids_Data/MonoBleedingEdge/etc/mono/mconfig/config.xml  \n",
            "   creating: ./training-envs-executables/linux/Pyramids/Pyramids_Data/MonoBleedingEdge/x86_64/\n",
            "  inflating: ./training-envs-executables/linux/Pyramids/Pyramids_Data/MonoBleedingEdge/x86_64/libmonobdwgc-2.0.so  \n",
            "  inflating: ./training-envs-executables/linux/Pyramids/Pyramids_Data/MonoBleedingEdge/x86_64/libmono-native.so  \n",
            "  inflating: ./training-envs-executables/linux/Pyramids/Pyramids_Data/MonoBleedingEdge/x86_64/libMonoPosixHelper.so  \n",
            "   creating: ./training-envs-executables/linux/Pyramids/Pyramids_Data/Resources/\n",
            "  inflating: ./training-envs-executables/linux/Pyramids/Pyramids_Data/Resources/unity default resources  \n",
            "  inflating: ./training-envs-executables/linux/Pyramids/Pyramids_Data/Resources/UnityPlayer.png  \n",
            "  inflating: ./training-envs-executables/linux/Pyramids/Pyramids_Data/Resources/unity_builtin_extra  \n",
            "   creating: ./training-envs-executables/linux/Pyramids/Pyramids_Data/Plugins/\n",
            "  inflating: ./training-envs-executables/linux/Pyramids/Pyramids_Data/Plugins/libgrpc_csharp_ext.x64.so  \n",
            "  inflating: ./training-envs-executables/linux/Pyramids/Pyramids_Data/Plugins/lib_burst_generated.so  \n",
            "   creating: ./training-envs-executables/linux/Pyramids/Pyramids_Data/ML-Agents/\n",
            "   creating: ./training-envs-executables/linux/Pyramids/Pyramids_Data/ML-Agents/Timers/\n",
            "  inflating: ./training-envs-executables/linux/Pyramids/Pyramids_Data/ML-Agents/Timers/Pyramids_timers.json  \n"
          ]
        }
      ],
      "source": [
        "# %%capture\n",
        "!unzip -d ./training-envs-executables/linux/ ./training-envs-executables/linux/Pyramids.zip"
      ]
    },
    {
      "cell_type": "markdown",
      "metadata": {
        "id": "KmKYBgHTAVMP"
      },
      "source": [
        "Make sure your file is accessible "
      ]
    },
    {
      "cell_type": "code",
      "execution_count": 13,
      "metadata": {
        "id": "Im-nwvLPAVMP"
      },
      "outputs": [],
      "source": [
        "!chmod -R 755 ./training-envs-executables/linux/Pyramids/Pyramids"
      ]
    },
    {
      "cell_type": "markdown",
      "metadata": {
        "id": "fqceIATXAgih"
      },
      "source": [
        "###  Modify the PyramidsRND config file\n",
        "- Contrary to the first environment which was a custom one, **Pyramids was made by the Unity team**.\n",
        "- So the PyramidsRND config file already exists and is in ./content/ml-agents/config/ppo/PyramidsRND.yaml\n",
        "- You might asked why \"RND\" in PyramidsRND. RND stands for *random network distillation* it's a way to generate curiosity rewards. If you want to know more on that we wrote an article explaning this technique: https://medium.com/data-from-the-trenches/curiosity-driven-learning-through-random-network-distillation-488ffd8e5938\n",
        "\n",
        "For this training, we’ll modify one thing:\n",
        "- The total training steps hyperparameter is too high since we can hit the benchmark (mean reward = 1.75) in only 1M training steps.\n",
        "👉 To do that, we go to config/ppo/PyramidsRND.yaml,**and modify these to max_steps to 1000000.**\n",
        "\n",
        "<img src=\"https://huggingface.co/datasets/huggingface-deep-rl-course/course-images/resolve/main/en/unit7/pyramids-config.png\" alt=\"Pyramids config\"/>"
      ]
    },
    {
      "cell_type": "markdown",
      "metadata": {
        "id": "RI-5aPL7BWVk"
      },
      "source": [
        "As an experimentation, you should also try to modify some other hyperparameters, Unity provides a very [good documentation explaining each of them here](https://github.com/Unity-Technologies/ml-agents/blob/main/docs/Training-Configuration-File.md).\n",
        "\n",
        "We’re now ready to train our agent 🔥."
      ]
    },
    {
      "cell_type": "markdown",
      "metadata": {
        "id": "s5hr1rvIBdZH"
      },
      "source": [
        "### Train the agent\n",
        "\n",
        "The training will take 30 to 45min depending on your machine, go take a ☕️you deserve it 🤗."
      ]
    },
    {
      "cell_type": "code",
      "execution_count": 15,
      "metadata": {
        "id": "fXi4-IaHBhqD"
      },
      "outputs": [
        {
          "name": "stdout",
          "output_type": "stream",
          "text": [
            "\n",
            "            ┐  ╖\n",
            "        ╓╖╬│╡  ││╬╖╖\n",
            "    ╓╖╬│││││┘  ╬│││││╬╖\n",
            " ╖╬│││││╬╜        ╙╬│││││╖╖                               ╗╗╗\n",
            " ╬╬╬╬╖││╦╖        ╖╬││╗╣╣╣╬      ╟╣╣╬    ╟╣╣╣             ╜╜╜  ╟╣╣\n",
            " ╬╬╬╬╬╬╬╬╖│╬╖╖╓╬╪│╓╣╣╣╣╣╣╣╬      ╟╣╣╬    ╟╣╣╣ ╒╣╣╖╗╣╣╣╗   ╣╣╣ ╣╣╣╣╣╣ ╟╣╣╖   ╣╣╣\n",
            " ╬╬╬╬┐  ╙╬╬╬╬│╓╣╣╣╝╜  ╫╣╣╣╬      ╟╣╣╬    ╟╣╣╣ ╟╣╣╣╙ ╙╣╣╣  ╣╣╣ ╙╟╣╣╜╙  ╫╣╣  ╟╣╣\n",
            " ╬╬╬╬┐     ╙╬╬╣╣      ╫╣╣╣╬      ╟╣╣╬    ╟╣╣╣ ╟╣╣╬   ╣╣╣  ╣╣╣  ╟╣╣     ╣╣╣┌╣╣╜\n",
            " ╬╬╬╜       ╬╬╣╣      ╙╝╣╣╬      ╙╣╣╣╗╖╓╗╣╣╣╜ ╟╣╣╬   ╣╣╣  ╣╣╣  ╟╣╣╦╓    ╣╣╣╣╣\n",
            " ╙   ╓╦╖    ╬╬╣╣   ╓╗╗╖            ╙╝╣╣╣╣╝╜   ╘╝╝╜   ╝╝╝  ╝╝╝   ╙╣╣╣    ╟╣╣╣\n",
            "   ╩╬╬╬╬╬╬╦╦╬╬╣╣╗╣╣╣╣╣╣╣╝                                             ╫╣╣╣╣\n",
            "      ╙╬╬╬╬╬╬╬╣╣╣╣╣╣╝╜\n",
            "          ╙╬╬╬╣╣╣╜\n",
            "             ╙\n",
            "        \n",
            " Version information:\n",
            "  ml-agents: 0.31.0.dev0,\n",
            "  ml-agents-envs: 0.31.0.dev0,\n",
            "  Communicator API: 1.5.0,\n",
            "  PyTorch: 1.11.0+cu102\n",
            "[INFO] Connected to Unity environment with package version 2.2.1-exp.1 and communication version 1.5.0\n",
            "[INFO] Connected new brain: Pyramids?team=0\n",
            "[INFO] Hyperparameters for behavior name Pyramids: \n",
            "\ttrainer_type:\tppo\n",
            "\thyperparameters:\t\n",
            "\t  batch_size:\t128\n",
            "\t  buffer_size:\t2048\n",
            "\t  learning_rate:\t0.0003\n",
            "\t  beta:\t0.01\n",
            "\t  epsilon:\t0.2\n",
            "\t  lambd:\t0.95\n",
            "\t  num_epoch:\t3\n",
            "\t  shared_critic:\tFalse\n",
            "\t  learning_rate_schedule:\tlinear\n",
            "\t  beta_schedule:\tlinear\n",
            "\t  epsilon_schedule:\tlinear\n",
            "\tcheckpoint_interval:\t500000\n",
            "\tnetwork_settings:\t\n",
            "\t  normalize:\tFalse\n",
            "\t  hidden_units:\t512\n",
            "\t  num_layers:\t2\n",
            "\t  vis_encode_type:\tsimple\n",
            "\t  memory:\tNone\n",
            "\t  goal_conditioning_type:\thyper\n",
            "\t  deterministic:\tFalse\n",
            "\treward_signals:\t\n",
            "\t  extrinsic:\t\n",
            "\t    gamma:\t0.99\n",
            "\t    strength:\t1.0\n",
            "\t    network_settings:\t\n",
            "\t      normalize:\tFalse\n",
            "\t      hidden_units:\t128\n",
            "\t      num_layers:\t2\n",
            "\t      vis_encode_type:\tsimple\n",
            "\t      memory:\tNone\n",
            "\t      goal_conditioning_type:\thyper\n",
            "\t      deterministic:\tFalse\n",
            "\t  rnd:\t\n",
            "\t    gamma:\t0.99\n",
            "\t    strength:\t0.01\n",
            "\t    network_settings:\t\n",
            "\t      normalize:\tFalse\n",
            "\t      hidden_units:\t64\n",
            "\t      num_layers:\t3\n",
            "\t      vis_encode_type:\tsimple\n",
            "\t      memory:\tNone\n",
            "\t      goal_conditioning_type:\thyper\n",
            "\t      deterministic:\tFalse\n",
            "\t    learning_rate:\t0.0001\n",
            "\t    encoding_size:\tNone\n",
            "\tinit_path:\tNone\n",
            "\tkeep_checkpoints:\t5\n",
            "\teven_checkpoints:\tFalse\n",
            "\tmax_steps:\t1000000\n",
            "\ttime_horizon:\t128\n",
            "\tsummary_freq:\t30000\n",
            "\tthreaded:\tFalse\n",
            "\tself_play:\tNone\n",
            "\tbehavioral_cloning:\tNone\n",
            "[INFO] Pyramids. Step: 30000. Time Elapsed: 38.967 s. Mean Reward: -1.000. Std of Reward: 0.000. Training.\n",
            "[INFO] Pyramids. Step: 60000. Time Elapsed: 75.252 s. Mean Reward: -0.937. Std of Reward: 0.350. Training.\n",
            "[INFO] Pyramids. Step: 90000. Time Elapsed: 112.233 s. Mean Reward: -0.859. Std of Reward: 0.555. Training.\n",
            "[INFO] Pyramids. Step: 120000. Time Elapsed: 148.875 s. Mean Reward: -0.782. Std of Reward: 0.685. Training.\n",
            "[INFO] Pyramids. Step: 150000. Time Elapsed: 188.269 s. Mean Reward: -0.839. Std of Reward: 0.642. Training.\n",
            "[INFO] Pyramids. Step: 180000. Time Elapsed: 231.420 s. Mean Reward: -0.661. Std of Reward: 0.804. Training.\n",
            "[INFO] Pyramids. Step: 210000. Time Elapsed: 273.112 s. Mean Reward: -0.840. Std of Reward: 0.598. Training.\n",
            "[INFO] Pyramids. Step: 240000. Time Elapsed: 313.437 s. Mean Reward: -0.859. Std of Reward: 0.546. Training.\n",
            "[INFO] Pyramids. Step: 270000. Time Elapsed: 354.984 s. Mean Reward: -0.827. Std of Reward: 0.574. Training.\n",
            "[INFO] Pyramids. Step: 300000. Time Elapsed: 394.347 s. Mean Reward: -0.527. Std of Reward: 0.965. Training.\n",
            "[INFO] Pyramids. Step: 330000. Time Elapsed: 435.160 s. Mean Reward: -0.619. Std of Reward: 0.853. Training.\n",
            "[INFO] Pyramids. Step: 360000. Time Elapsed: 479.124 s. Mean Reward: -0.213. Std of Reward: 1.115. Training.\n",
            "[INFO] Pyramids. Step: 390000. Time Elapsed: 522.931 s. Mean Reward: -0.109. Std of Reward: 1.165. Training.\n",
            "[INFO] Pyramids. Step: 420000. Time Elapsed: 566.365 s. Mean Reward: 0.704. Std of Reward: 1.142. Training.\n",
            "[INFO] Pyramids. Step: 450000. Time Elapsed: 610.244 s. Mean Reward: 0.611. Std of Reward: 1.230. Training.\n",
            "[INFO] Pyramids. Step: 480000. Time Elapsed: 655.844 s. Mean Reward: 0.732. Std of Reward: 1.162. Training.\n",
            "[INFO] Exported results/Pyramids Training/Pyramids/Pyramids-499877.onnx\n",
            "[INFO] Pyramids. Step: 510000. Time Elapsed: 701.847 s. Mean Reward: 1.068. Std of Reward: 1.051. Training.\n",
            "[INFO] Pyramids. Step: 540000. Time Elapsed: 746.204 s. Mean Reward: 1.221. Std of Reward: 0.847. Training.\n",
            "[INFO] Pyramids. Step: 570000. Time Elapsed: 794.192 s. Mean Reward: 1.131. Std of Reward: 0.961. Training.\n",
            "[INFO] Pyramids. Step: 600000. Time Elapsed: 841.207 s. Mean Reward: 1.150. Std of Reward: 0.947. Training.\n",
            "[INFO] Pyramids. Step: 630000. Time Elapsed: 888.928 s. Mean Reward: 1.333. Std of Reward: 0.803. Training.\n",
            "[INFO] Pyramids. Step: 660000. Time Elapsed: 935.354 s. Mean Reward: 1.101. Std of Reward: 1.020. Training.\n",
            "[INFO] Pyramids. Step: 690000. Time Elapsed: 980.823 s. Mean Reward: 0.942. Std of Reward: 1.140. Training.\n",
            "[INFO] Pyramids. Step: 720000. Time Elapsed: 1026.239 s. Mean Reward: 1.388. Std of Reward: 0.771. Training.\n",
            "[INFO] Pyramids. Step: 750000. Time Elapsed: 1070.386 s. Mean Reward: 1.439. Std of Reward: 0.663. Training.\n",
            "[INFO] Pyramids. Step: 780000. Time Elapsed: 1116.197 s. Mean Reward: 1.547. Std of Reward: 0.527. Training.\n",
            "[INFO] Pyramids. Step: 810000. Time Elapsed: 1162.198 s. Mean Reward: 1.448. Std of Reward: 0.727. Training.\n",
            "[INFO] Pyramids. Step: 840000. Time Elapsed: 1205.974 s. Mean Reward: 1.437. Std of Reward: 0.707. Training.\n",
            "[INFO] Pyramids. Step: 870000. Time Elapsed: 1250.532 s. Mean Reward: 1.589. Std of Reward: 0.462. Training.\n",
            "[INFO] Pyramids. Step: 900000. Time Elapsed: 1295.653 s. Mean Reward: 1.623. Std of Reward: 0.433. Training.\n",
            "[INFO] Pyramids. Step: 930000. Time Elapsed: 1341.177 s. Mean Reward: 1.640. Std of Reward: 0.337. Training.\n",
            "[INFO] Pyramids. Step: 960000. Time Elapsed: 1385.764 s. Mean Reward: 1.551. Std of Reward: 0.548. Training.\n",
            "[INFO] Pyramids. Step: 990000. Time Elapsed: 1431.136 s. Mean Reward: 1.507. Std of Reward: 0.663. Training.\n",
            "[INFO] Exported results/Pyramids Training/Pyramids/Pyramids-999936.onnx\n",
            "[INFO] Exported results/Pyramids Training/Pyramids/Pyramids-1000064.onnx\n",
            "[INFO] Copied results/Pyramids Training/Pyramids/Pyramids-1000064.onnx to results/Pyramids Training/Pyramids.onnx.\n"
          ]
        }
      ],
      "source": [
        "!mlagents-learn ./ml-agents/config/ppo/PyramidsRND.yaml --env=./training-envs-executables/linux/Pyramids/Pyramids --run-id=\"Pyramids Training\" --no-graphics"
      ]
    },
    {
      "cell_type": "markdown",
      "metadata": {
        "id": "txonKxuSByut"
      },
      "source": [
        "### Push the agent to the 🤗 Hub\n",
        "\n",
        "- Now that we trained our agent, we’re **ready to push it to the Hub to be able to visualize it playing on your browser🔥.**"
      ]
    },
    {
      "cell_type": "code",
      "execution_count": null,
      "metadata": {
        "id": "JZ53caJ99sX_"
      },
      "outputs": [],
      "source": []
    },
    {
      "cell_type": "code",
      "execution_count": 16,
      "metadata": {
        "id": "yiEQbv7rB4mU"
      },
      "outputs": [
        {
          "name": "stdout",
          "output_type": "stream",
          "text": [
            "Cloning https://huggingface.co/hussamalafandi/ppo-PyramidsRND into local empty directory.\n",
            "WARNING:huggingface_hub.repository:Cloning https://huggingface.co/hussamalafandi/ppo-PyramidsRND into local empty directory.\n",
            "Upload file Pyramids/Pyramids-1000064.pt:   0%|    | 32.0k/8.25M [00:00<?, ?B/s]\n",
            "Upload file Pyramids/Pyramids-999936.pt:   0%|     | 32.0k/8.25M [00:00<?, ?B/s]\u001b[A\n",
            "\n",
            "Upload file Pyramids.onnx:   2%|▍                  | 32.0k/1.35M [00:00<?, ?B/s]\u001b[A\u001b[A\n",
            "\n",
            "\n",
            "Upload file Pyramids/Pyramids-499877.onnx:   2%|   | 32.0k/1.35M [00:00<?, ?B/s]\u001b[A\u001b[A\u001b[A\n",
            "\n",
            "\n",
            "\n",
            "Upload file Pyramids/Pyramids-499877.pt:   0%|     | 32.0k/8.25M [00:00<?, ?B/s]\u001b[A\u001b[A\u001b[A\u001b[A\n",
            "\n",
            "\n",
            "\n",
            "\n",
            "Upload file Pyramids/events.out.tfevents.1681084631.HSM-PC.68748.0:  10%| | 32.0\u001b[A\u001b[A\u001b[A\u001b[A\u001b[A\n",
            "\n",
            "Upload file Pyramids.onnx:   9%|█           | 128k/1.35M [00:01<00:13, 98.1kB/s]\u001b[A\u001b[A\n",
            "\n",
            "\n",
            "\n",
            "Upload file Pyramids/Pyramids-499877.pt:   2%| | 128k/8.25M [00:01<01:26, 98.2kB\u001b[A\u001b[A\u001b[A\u001b[A\n",
            "\n",
            "\n",
            "Upload file Pyramids/Pyramids-499877.onnx:   9%| | 128k/1.35M [00:01<00:13, 98.1\u001b[A\u001b[A\u001b[A\n",
            "\n",
            "\n",
            "\n",
            "\n",
            "Upload file Pyramids/events.out.tfevents.1681084631.HSM-PC.68748.0:  39%|▍| 128k\u001b[A\u001b[A\u001b[A\u001b[A\u001b[A\n",
            "Upload file Pyramids/Pyramids-1000064.pt:   9%| | 736k/8.25M [00:01<00:10, 719kB\u001b[A\n",
            "\n",
            "Upload file Pyramids.onnx:  99%|███████████▉| 1.34M/1.35M [00:02<00:00, 790kB/s]\u001b[A\u001b[A\n",
            "Upload file Pyramids/Pyramids-999936.pt:  30%|▎| 2.50M/8.25M [00:02<00:04, 1.49M\u001b[A\n",
            "\n",
            "\n",
            "\n",
            "Upload file Pyramids/Pyramids-499877.pt:  15%|▏| 1.22M/8.25M [00:02<00:10, 713kB\u001b[A\u001b[A\u001b[A\u001b[A\n",
            "\n",
            "\n",
            "Upload file Pyramids/Pyramids-1000064.pt:  41%|▍| 3.41M/8.25M [00:03<00:03, 1.28\u001b[A\u001b[A\u001b[A\n",
            "\n",
            "\n",
            "\n",
            "Upload file Pyramids/Pyramids-499877.pt:  28%|▎| 2.34M/8.25M [00:03<00:06, 923kB\u001b[A\u001b[A\u001b[A\u001b[A\n",
            "Upload file Pyramids/Pyramids-999936.pt:  61%|▌| 5.00M/8.25M [00:03<00:01, 2.00M\u001b[A\n",
            "Upload file Pyramids/Pyramids-999936.pt:  73%|▋| 6.00M/8.25M [00:04<00:01, 1.62M\u001b[A\n",
            "\n",
            "\n",
            "\n",
            "Upload file Pyramids/Pyramids-1000064.pt:  64%|▋| 5.28M/8.25M [00:05<00:02, 1.08\u001b[A\u001b[A\u001b[A\u001b[A\n",
            "\n",
            "\n",
            "\n",
            "Upload file Pyramids/Pyramids-499877.pt:  40%|▍| 3.31M/8.25M [00:05<00:07, 669kB\u001b[A\u001b[A\u001b[A\u001b[A\n",
            "Upload file Pyramids/Pyramids-1000064.pt:  75%|▋| 6.16M/8.25M [00:06<00:02, 1.02\u001b[A\n",
            "\n",
            "\n",
            "\n",
            "Upload file Pyramids/Pyramids-1000064.pt:  87%|▊| 7.19M/8.25M [00:07<00:01, 1.04\u001b[A\u001b[A\u001b[A\u001b[A\n",
            "\n",
            "\n",
            "\n",
            "Upload file Pyramids/Pyramids-1000064.pt:  98%|▉| 8.09M/8.25M [00:08<00:00, 1.01\u001b[A\u001b[A\u001b[A\u001b[A\n",
            "\n",
            "\n",
            "\n",
            "Upload file Pyramids/Pyramids-499877.pt:  64%|▋| 5.31M/8.25M [00:08<00:04, 671kB\u001b[A\u001b[A\u001b[A\u001b[A\n",
            "\n",
            "\n",
            "\n",
            "Upload file Pyramids/Pyramids-499877.pt:  72%|▋| 5.97M/8.25M [00:09<00:03, 676kB\u001b[A\u001b[A\u001b[A\u001b[A\n",
            "\n",
            "\n",
            "\n",
            "Upload file Pyramids/Pyramids-499877.pt:  82%|▊| 6.78M/8.25M [00:10<00:02, 730kB\u001b[A\u001b[A\u001b[A\u001b[A\n",
            "\n",
            "\n",
            "\n",
            "Upload file Pyramids/Pyramids-499877.pt:  92%|▉| 7.62M/8.25M [00:11<00:00, 777kB\u001b[A\u001b[A\u001b[A\u001b[A\n",
            "\n",
            "\n",
            "\n",
            "Upload file Pyramids/Pyramids-499877.pt: 100%|▉| 8.25M/8.25M [00:12<00:00, 739kB\u001b[A\u001b[A\u001b[A\u001b[Agit: 'credential-store~' is not a git command. See 'git --help'.\n",
            "\n",
            "The most similar command is\n",
            "\tcredential-store\n",
            "To https://huggingface.co/hussamalafandi/ppo-PyramidsRND\n",
            "   0167f7d..a7eb8f0  main -> main\n",
            "\n",
            "WARNING:huggingface_hub.repository:git: 'credential-store~' is not a git command. See 'git --help'.\n",
            "\n",
            "The most similar command is\n",
            "\tcredential-store\n",
            "To https://huggingface.co/hussamalafandi/ppo-PyramidsRND\n",
            "   0167f7d..a7eb8f0  main -> main\n",
            "\n",
            "Upload file Pyramids/Pyramids-1000064.pt: 100%|█| 8.25M/8.25M [00:13<00:00, 661k\n",
            "\n",
            "Upload file Pyramids/Pyramids-999936.pt: 100%|█| 8.25M/8.25M [00:13<00:00, 403kB\u001b[A\n",
            "Upload file Pyramids/Pyramids-999936.pt: 100%|█| 8.25M/8.25M [00:13<00:00, 661kB\u001b[A\n",
            "\n",
            "\n",
            "Upload file Pyramids.onnx: 100%|████████████| 1.35M/1.35M [00:13<00:00, 106kB/s]\u001b[A\u001b[A\n",
            "\n",
            "\n",
            "\n",
            "Upload file Pyramids/Pyramids-499877.onnx: 100%|█| 1.35M/1.35M [00:13<00:00, 106\u001b[A\u001b[A\u001b[A\n",
            "\n",
            "\n",
            "\n",
            "\n",
            "Upload file Pyramids/Pyramids-499877.pt: 100%|█| 8.25M/8.25M [00:13<00:00, 661kB\u001b[A\u001b[A\u001b[A\u001b[A\n",
            "\n",
            "\n",
            "\n",
            "\n",
            "\n",
            "Upload file Pyramids/events.out.tfevents.1681084631.HSM-PC.68748.0: 100%|█| 325k\u001b[A\u001b[A\u001b[A\u001b[A\u001b[A\n",
            "\n",
            "\n",
            "\n",
            "\n",
            "Upload file Pyramids/events.out.tfevents.1681084631.HSM-PC.68748.0: 100%|█| 325k\u001b[A\u001b[A\u001b[A\u001b[A\u001b[A\n",
            "\n",
            " Your model is pushed to the hub. You can view your model here: https://huggingface.co/hussamalafandi/ppo-PyramidsRND\n"
          ]
        }
      ],
      "source": [
        "!mlagents-push-to-hf  --run-id=\"PyramidsRND1\"  --local-dir=\"./results/Pyramids Training\"  --repo-id=\"hussamalafandi/ppo-PyramidsRND\"  --commit-message=\"First Training\""
      ]
    },
    {
      "cell_type": "markdown",
      "metadata": {
        "id": "7aZfgxo-CDeQ"
      },
      "source": [
        "### Watch your agent playing 👀\n",
        "\n",
        "The temporary link for Pyramids demo is: https://singularite.itch.io/pyramids"
      ]
    },
    {
      "cell_type": "markdown",
      "metadata": {
        "id": "hGG_oq2n0wjB"
      },
      "source": [
        "### 🎁 Bonus: Why not train on another environment?\n",
        "Now that you know how to train an agent using MLAgents, **why not try another environment?** \n",
        "\n",
        "MLAgents provides 18 different and we’re building some custom ones. The best way to learn is to try things of your own, have fun.\n",
        "\n"
      ]
    },
    {
      "cell_type": "markdown",
      "metadata": {
        "id": "KSAkJxSr0z6-"
      },
      "source": [
        "![cover](https://miro.medium.com/max/1400/0*xERdThTRRM2k_U9f.png)"
      ]
    },
    {
      "cell_type": "markdown",
      "metadata": {
        "id": "YiyF4FX-04JB"
      },
      "source": [
        "You have the full list of the one currently available on Hugging Face here 👉 https://github.com/huggingface/ml-agents#the-environments\n",
        "\n",
        "For the demos to visualize your agent, the temporary link is: https://singularite.itch.io (temporary because we'll also put the demos on Hugging Face Space)\n",
        "\n",
        "For now we have integrated: \n",
        "- [Worm](https://singularite.itch.io/worm) demo where you teach a **worm to crawl**.\n",
        "- [Walker](https://singularite.itch.io/walker) demo where you teach an agent **to walk towards a goal**.\n",
        "\n",
        "If you want new demos to be added, please open an issue: https://github.com/huggingface/deep-rl-class 🤗"
      ]
    },
    {
      "cell_type": "markdown",
      "metadata": {
        "id": "PI6dPWmh064H"
      },
      "source": [
        "That’s all for today. Congrats on finishing this tutorial!\n",
        "\n",
        "The best way to learn is to practice and try stuff. Why not try another environment? ML-Agents has 18 different environments, but you can also create your own? Check the documentation and have fun!\n",
        "\n",
        "See you on Unit 6 🔥,\n",
        "\n",
        "## Keep Learning, Stay  awesome 🤗"
      ]
    }
  ],
  "metadata": {
    "accelerator": "GPU",
    "colab": {
      "private_outputs": true,
      "provenance": []
    },
    "gpuClass": "standard",
    "kernelspec": {
      "display_name": "Python 3",
      "name": "python3"
    },
    "language_info": {
      "codemirror_mode": {
        "name": "ipython",
        "version": 3
      },
      "file_extension": ".py",
      "mimetype": "text/x-python",
      "name": "python",
      "nbconvert_exporter": "python",
      "pygments_lexer": "ipython3",
      "version": "3.9.16"
    }
  },
  "nbformat": 4,
  "nbformat_minor": 0
}
